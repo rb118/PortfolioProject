{
 "cells": [
  {
   "cell_type": "markdown",
   "id": "6414157c",
   "metadata": {},
   "source": [
    "# TMDB Data Analysis (Data Wrangling, Exploratory Data Analysis)"
   ]
  },
  {
   "cell_type": "markdown",
   "id": "c9868004",
   "metadata": {},
   "source": [
    "What causes a movie to be successful? Does it need a high budget? Does it need the most famous actors? Perhaps the genre is the most important factor. \n",
    "\n",
    "This project seeks to answer such questions and more as we will analyze a data set to find relationships between the success of a movie and its associated variables (such as budget, cast, genre, etc.) \n",
    "\n",
    "We will be analying a data set that has 4,814 movies up to the year 2016.\n",
    "\n",
    "Data set: https://www.kaggle.com/datasets/tmdb/tmdb-movie-metadata"
   ]
  },
  {
   "cell_type": "markdown",
   "id": "8803eaba",
   "metadata": {},
   "source": [
    "While the data sets have many columns, these are the ones we will be looking at the most:\n",
    "\n",
    "There are two data sets and we will join them together.\n",
    "\n",
    "The first data set has:\n",
    "\n",
    "- __movie_id__: A unique number that identifies a movie\n",
    "- __cast__: The name of the actors in the movie\n",
    "- __crew__: The name of the director, editor, etc. (We will only look at the director)\n",
    "\n",
    "The second data set has:\n",
    "\n",
    "- __id__: Same as movie_id in the first data set\n",
    "- __budget__: The budget of the movie\n",
    "- __revenue__: The amount of money a movie earned globally\n",
    "- __genre__: The genre of the movie (action, adventure, etc.)\n",
    "- __original_title__: The title of a movie before translation or adaptation\n",
    "- __release_date__: The date a movie released (We will make a new column called release_year based off this)\n",
    "- __vote_average__: the average rating of a movie (from TMDB users)\n",
    "- __vote_count__: the number of votes a movie received (from TMDB users)"
   ]
  },
  {
   "cell_type": "markdown",
   "id": "506f9461",
   "metadata": {},
   "source": [
    "## Table of Contents\n",
    "\n",
    "- Questions\n",
    "- Data Wrangling\n",
    "- Exploratory Data Analysis\n",
    "- Conclusions\n",
    "- References"
   ]
  },
  {
   "cell_type": "markdown",
   "id": "ed453dd9",
   "metadata": {},
   "source": [
    "## Questions\n",
    "\n",
    "- Question 1: What is the movie that earned the highest revenue?\n",
    "\n",
    "\n",
    "- Question 2: What was the most expensive movie to make?\n",
    "\n",
    "\n",
    "- Question 3: What was the most profitable movie?\n",
    "\n",
    "\n",
    "- Question 4: Is there a relationship between budget and profit/revenue? If a movie has a higher budget, will it lead to higher profit and revenue?\n",
    "\n",
    "\n",
    "- Question 5: What are the top movies by score?\n",
    "\n",
    "\n",
    "- Question 6: Which director makes the movies with the highest average profit?\n",
    "\n",
    "\n",
    "- Question 7: Which actors bring in the most revenue and profit?\n",
    "\n",
    "\n",
    "- Question 8: Which genres make the highest revenue and profit?\n",
    "\n"
   ]
  },
  {
   "cell_type": "code",
   "execution_count": 1,
   "id": "c6db5d2c",
   "metadata": {},
   "outputs": [],
   "source": [
    "# Import packages\n",
    "\n",
    "import numpy as np\n",
    "import pandas as pd\n",
    "import matplotlib.pyplot as plt\n",
    "import seaborn as sns\n",
    "%matplotlib inline\n",
    "\n",
    "# Import CSV\n",
    "\n",
    "df1 = pd.read_csv(r'D:\\PortfolioProject\\tmdb_5000_credits.csv')\n",
    "df2 = pd.read_csv(r'D:\\PortfolioProject\\tmdb_5000_movies.csv')\n"
   ]
  },
  {
   "cell_type": "code",
   "execution_count": 2,
   "id": "dbf55c19",
   "metadata": {},
   "outputs": [],
   "source": [
    "df1.columns = ['id', 'title2', 'cast', 'crew']\n",
    "df2 = df2.merge(df1, on='id')"
   ]
  },
  {
   "cell_type": "code",
   "execution_count": 3,
   "id": "50d7cf15",
   "metadata": {},
   "outputs": [
    {
     "data": {
      "text/html": [
       "<div>\n",
       "<style scoped>\n",
       "    .dataframe tbody tr th:only-of-type {\n",
       "        vertical-align: middle;\n",
       "    }\n",
       "\n",
       "    .dataframe tbody tr th {\n",
       "        vertical-align: top;\n",
       "    }\n",
       "\n",
       "    .dataframe thead th {\n",
       "        text-align: right;\n",
       "    }\n",
       "</style>\n",
       "<table border=\"1\" class=\"dataframe\">\n",
       "  <thead>\n",
       "    <tr style=\"text-align: right;\">\n",
       "      <th></th>\n",
       "      <th>budget</th>\n",
       "      <th>genres</th>\n",
       "      <th>homepage</th>\n",
       "      <th>id</th>\n",
       "      <th>keywords</th>\n",
       "      <th>original_language</th>\n",
       "      <th>original_title</th>\n",
       "      <th>overview</th>\n",
       "      <th>popularity</th>\n",
       "      <th>production_companies</th>\n",
       "      <th>...</th>\n",
       "      <th>runtime</th>\n",
       "      <th>spoken_languages</th>\n",
       "      <th>status</th>\n",
       "      <th>tagline</th>\n",
       "      <th>title</th>\n",
       "      <th>vote_average</th>\n",
       "      <th>vote_count</th>\n",
       "      <th>title2</th>\n",
       "      <th>cast</th>\n",
       "      <th>crew</th>\n",
       "    </tr>\n",
       "  </thead>\n",
       "  <tbody>\n",
       "    <tr>\n",
       "      <th>0</th>\n",
       "      <td>237000000</td>\n",
       "      <td>[{\"id\": 28, \"name\": \"Action\"}, {\"id\": 12, \"nam...</td>\n",
       "      <td>http://www.avatarmovie.com/</td>\n",
       "      <td>19995</td>\n",
       "      <td>[{\"id\": 1463, \"name\": \"culture clash\"}, {\"id\":...</td>\n",
       "      <td>en</td>\n",
       "      <td>Avatar</td>\n",
       "      <td>In the 22nd century, a paraplegic Marine is di...</td>\n",
       "      <td>150.437577</td>\n",
       "      <td>[{\"name\": \"Ingenious Film Partners\", \"id\": 289...</td>\n",
       "      <td>...</td>\n",
       "      <td>162.0</td>\n",
       "      <td>[{\"iso_639_1\": \"en\", \"name\": \"English\"}, {\"iso...</td>\n",
       "      <td>Released</td>\n",
       "      <td>Enter the World of Pandora.</td>\n",
       "      <td>Avatar</td>\n",
       "      <td>7.2</td>\n",
       "      <td>11800</td>\n",
       "      <td>Avatar</td>\n",
       "      <td>[{\"cast_id\": 242, \"character\": \"Jake Sully\", \"...</td>\n",
       "      <td>[{\"credit_id\": \"52fe48009251416c750aca23\", \"de...</td>\n",
       "    </tr>\n",
       "    <tr>\n",
       "      <th>1</th>\n",
       "      <td>300000000</td>\n",
       "      <td>[{\"id\": 12, \"name\": \"Adventure\"}, {\"id\": 14, \"...</td>\n",
       "      <td>http://disney.go.com/disneypictures/pirates/</td>\n",
       "      <td>285</td>\n",
       "      <td>[{\"id\": 270, \"name\": \"ocean\"}, {\"id\": 726, \"na...</td>\n",
       "      <td>en</td>\n",
       "      <td>Pirates of the Caribbean: At World's End</td>\n",
       "      <td>Captain Barbossa, long believed to be dead, ha...</td>\n",
       "      <td>139.082615</td>\n",
       "      <td>[{\"name\": \"Walt Disney Pictures\", \"id\": 2}, {\"...</td>\n",
       "      <td>...</td>\n",
       "      <td>169.0</td>\n",
       "      <td>[{\"iso_639_1\": \"en\", \"name\": \"English\"}]</td>\n",
       "      <td>Released</td>\n",
       "      <td>At the end of the world, the adventure begins.</td>\n",
       "      <td>Pirates of the Caribbean: At World's End</td>\n",
       "      <td>6.9</td>\n",
       "      <td>4500</td>\n",
       "      <td>Pirates of the Caribbean: At World's End</td>\n",
       "      <td>[{\"cast_id\": 4, \"character\": \"Captain Jack Spa...</td>\n",
       "      <td>[{\"credit_id\": \"52fe4232c3a36847f800b579\", \"de...</td>\n",
       "    </tr>\n",
       "    <tr>\n",
       "      <th>2</th>\n",
       "      <td>245000000</td>\n",
       "      <td>[{\"id\": 28, \"name\": \"Action\"}, {\"id\": 12, \"nam...</td>\n",
       "      <td>http://www.sonypictures.com/movies/spectre/</td>\n",
       "      <td>206647</td>\n",
       "      <td>[{\"id\": 470, \"name\": \"spy\"}, {\"id\": 818, \"name...</td>\n",
       "      <td>en</td>\n",
       "      <td>Spectre</td>\n",
       "      <td>A cryptic message from Bond’s past sends him o...</td>\n",
       "      <td>107.376788</td>\n",
       "      <td>[{\"name\": \"Columbia Pictures\", \"id\": 5}, {\"nam...</td>\n",
       "      <td>...</td>\n",
       "      <td>148.0</td>\n",
       "      <td>[{\"iso_639_1\": \"fr\", \"name\": \"Fran\\u00e7ais\"},...</td>\n",
       "      <td>Released</td>\n",
       "      <td>A Plan No One Escapes</td>\n",
       "      <td>Spectre</td>\n",
       "      <td>6.3</td>\n",
       "      <td>4466</td>\n",
       "      <td>Spectre</td>\n",
       "      <td>[{\"cast_id\": 1, \"character\": \"James Bond\", \"cr...</td>\n",
       "      <td>[{\"credit_id\": \"54805967c3a36829b5002c41\", \"de...</td>\n",
       "    </tr>\n",
       "    <tr>\n",
       "      <th>3</th>\n",
       "      <td>250000000</td>\n",
       "      <td>[{\"id\": 28, \"name\": \"Action\"}, {\"id\": 80, \"nam...</td>\n",
       "      <td>http://www.thedarkknightrises.com/</td>\n",
       "      <td>49026</td>\n",
       "      <td>[{\"id\": 849, \"name\": \"dc comics\"}, {\"id\": 853,...</td>\n",
       "      <td>en</td>\n",
       "      <td>The Dark Knight Rises</td>\n",
       "      <td>Following the death of District Attorney Harve...</td>\n",
       "      <td>112.312950</td>\n",
       "      <td>[{\"name\": \"Legendary Pictures\", \"id\": 923}, {\"...</td>\n",
       "      <td>...</td>\n",
       "      <td>165.0</td>\n",
       "      <td>[{\"iso_639_1\": \"en\", \"name\": \"English\"}]</td>\n",
       "      <td>Released</td>\n",
       "      <td>The Legend Ends</td>\n",
       "      <td>The Dark Knight Rises</td>\n",
       "      <td>7.6</td>\n",
       "      <td>9106</td>\n",
       "      <td>The Dark Knight Rises</td>\n",
       "      <td>[{\"cast_id\": 2, \"character\": \"Bruce Wayne / Ba...</td>\n",
       "      <td>[{\"credit_id\": \"52fe4781c3a36847f81398c3\", \"de...</td>\n",
       "    </tr>\n",
       "    <tr>\n",
       "      <th>4</th>\n",
       "      <td>260000000</td>\n",
       "      <td>[{\"id\": 28, \"name\": \"Action\"}, {\"id\": 12, \"nam...</td>\n",
       "      <td>http://movies.disney.com/john-carter</td>\n",
       "      <td>49529</td>\n",
       "      <td>[{\"id\": 818, \"name\": \"based on novel\"}, {\"id\":...</td>\n",
       "      <td>en</td>\n",
       "      <td>John Carter</td>\n",
       "      <td>John Carter is a war-weary, former military ca...</td>\n",
       "      <td>43.926995</td>\n",
       "      <td>[{\"name\": \"Walt Disney Pictures\", \"id\": 2}]</td>\n",
       "      <td>...</td>\n",
       "      <td>132.0</td>\n",
       "      <td>[{\"iso_639_1\": \"en\", \"name\": \"English\"}]</td>\n",
       "      <td>Released</td>\n",
       "      <td>Lost in our world, found in another.</td>\n",
       "      <td>John Carter</td>\n",
       "      <td>6.1</td>\n",
       "      <td>2124</td>\n",
       "      <td>John Carter</td>\n",
       "      <td>[{\"cast_id\": 5, \"character\": \"John Carter\", \"c...</td>\n",
       "      <td>[{\"credit_id\": \"52fe479ac3a36847f813eaa3\", \"de...</td>\n",
       "    </tr>\n",
       "  </tbody>\n",
       "</table>\n",
       "<p>5 rows × 23 columns</p>\n",
       "</div>"
      ],
      "text/plain": [
       "      budget                                             genres  \\\n",
       "0  237000000  [{\"id\": 28, \"name\": \"Action\"}, {\"id\": 12, \"nam...   \n",
       "1  300000000  [{\"id\": 12, \"name\": \"Adventure\"}, {\"id\": 14, \"...   \n",
       "2  245000000  [{\"id\": 28, \"name\": \"Action\"}, {\"id\": 12, \"nam...   \n",
       "3  250000000  [{\"id\": 28, \"name\": \"Action\"}, {\"id\": 80, \"nam...   \n",
       "4  260000000  [{\"id\": 28, \"name\": \"Action\"}, {\"id\": 12, \"nam...   \n",
       "\n",
       "                                       homepage      id  \\\n",
       "0                   http://www.avatarmovie.com/   19995   \n",
       "1  http://disney.go.com/disneypictures/pirates/     285   \n",
       "2   http://www.sonypictures.com/movies/spectre/  206647   \n",
       "3            http://www.thedarkknightrises.com/   49026   \n",
       "4          http://movies.disney.com/john-carter   49529   \n",
       "\n",
       "                                            keywords original_language  \\\n",
       "0  [{\"id\": 1463, \"name\": \"culture clash\"}, {\"id\":...                en   \n",
       "1  [{\"id\": 270, \"name\": \"ocean\"}, {\"id\": 726, \"na...                en   \n",
       "2  [{\"id\": 470, \"name\": \"spy\"}, {\"id\": 818, \"name...                en   \n",
       "3  [{\"id\": 849, \"name\": \"dc comics\"}, {\"id\": 853,...                en   \n",
       "4  [{\"id\": 818, \"name\": \"based on novel\"}, {\"id\":...                en   \n",
       "\n",
       "                             original_title  \\\n",
       "0                                    Avatar   \n",
       "1  Pirates of the Caribbean: At World's End   \n",
       "2                                   Spectre   \n",
       "3                     The Dark Knight Rises   \n",
       "4                               John Carter   \n",
       "\n",
       "                                            overview  popularity  \\\n",
       "0  In the 22nd century, a paraplegic Marine is di...  150.437577   \n",
       "1  Captain Barbossa, long believed to be dead, ha...  139.082615   \n",
       "2  A cryptic message from Bond’s past sends him o...  107.376788   \n",
       "3  Following the death of District Attorney Harve...  112.312950   \n",
       "4  John Carter is a war-weary, former military ca...   43.926995   \n",
       "\n",
       "                                production_companies  ... runtime  \\\n",
       "0  [{\"name\": \"Ingenious Film Partners\", \"id\": 289...  ...   162.0   \n",
       "1  [{\"name\": \"Walt Disney Pictures\", \"id\": 2}, {\"...  ...   169.0   \n",
       "2  [{\"name\": \"Columbia Pictures\", \"id\": 5}, {\"nam...  ...   148.0   \n",
       "3  [{\"name\": \"Legendary Pictures\", \"id\": 923}, {\"...  ...   165.0   \n",
       "4        [{\"name\": \"Walt Disney Pictures\", \"id\": 2}]  ...   132.0   \n",
       "\n",
       "                                    spoken_languages    status  \\\n",
       "0  [{\"iso_639_1\": \"en\", \"name\": \"English\"}, {\"iso...  Released   \n",
       "1           [{\"iso_639_1\": \"en\", \"name\": \"English\"}]  Released   \n",
       "2  [{\"iso_639_1\": \"fr\", \"name\": \"Fran\\u00e7ais\"},...  Released   \n",
       "3           [{\"iso_639_1\": \"en\", \"name\": \"English\"}]  Released   \n",
       "4           [{\"iso_639_1\": \"en\", \"name\": \"English\"}]  Released   \n",
       "\n",
       "                                          tagline  \\\n",
       "0                     Enter the World of Pandora.   \n",
       "1  At the end of the world, the adventure begins.   \n",
       "2                           A Plan No One Escapes   \n",
       "3                                 The Legend Ends   \n",
       "4            Lost in our world, found in another.   \n",
       "\n",
       "                                      title vote_average vote_count  \\\n",
       "0                                    Avatar          7.2      11800   \n",
       "1  Pirates of the Caribbean: At World's End          6.9       4500   \n",
       "2                                   Spectre          6.3       4466   \n",
       "3                     The Dark Knight Rises          7.6       9106   \n",
       "4                               John Carter          6.1       2124   \n",
       "\n",
       "                                     title2  \\\n",
       "0                                    Avatar   \n",
       "1  Pirates of the Caribbean: At World's End   \n",
       "2                                   Spectre   \n",
       "3                     The Dark Knight Rises   \n",
       "4                               John Carter   \n",
       "\n",
       "                                                cast  \\\n",
       "0  [{\"cast_id\": 242, \"character\": \"Jake Sully\", \"...   \n",
       "1  [{\"cast_id\": 4, \"character\": \"Captain Jack Spa...   \n",
       "2  [{\"cast_id\": 1, \"character\": \"James Bond\", \"cr...   \n",
       "3  [{\"cast_id\": 2, \"character\": \"Bruce Wayne / Ba...   \n",
       "4  [{\"cast_id\": 5, \"character\": \"John Carter\", \"c...   \n",
       "\n",
       "                                                crew  \n",
       "0  [{\"credit_id\": \"52fe48009251416c750aca23\", \"de...  \n",
       "1  [{\"credit_id\": \"52fe4232c3a36847f800b579\", \"de...  \n",
       "2  [{\"credit_id\": \"54805967c3a36829b5002c41\", \"de...  \n",
       "3  [{\"credit_id\": \"52fe4781c3a36847f81398c3\", \"de...  \n",
       "4  [{\"credit_id\": \"52fe479ac3a36847f813eaa3\", \"de...  \n",
       "\n",
       "[5 rows x 23 columns]"
      ]
     },
     "execution_count": 3,
     "metadata": {},
     "output_type": "execute_result"
    }
   ],
   "source": [
    "df2.head(5)"
   ]
  },
  {
   "cell_type": "code",
   "execution_count": 4,
   "id": "48b51e63",
   "metadata": {
    "scrolled": true
   },
   "outputs": [
    {
     "name": "stdout",
     "output_type": "stream",
     "text": [
      "<class 'pandas.core.frame.DataFrame'>\n",
      "Int64Index: 4803 entries, 0 to 4802\n",
      "Data columns (total 23 columns):\n",
      " #   Column                Non-Null Count  Dtype  \n",
      "---  ------                --------------  -----  \n",
      " 0   budget                4803 non-null   int64  \n",
      " 1   genres                4803 non-null   object \n",
      " 2   homepage              1712 non-null   object \n",
      " 3   id                    4803 non-null   int64  \n",
      " 4   keywords              4803 non-null   object \n",
      " 5   original_language     4803 non-null   object \n",
      " 6   original_title        4803 non-null   object \n",
      " 7   overview              4800 non-null   object \n",
      " 8   popularity            4803 non-null   float64\n",
      " 9   production_companies  4803 non-null   object \n",
      " 10  production_countries  4803 non-null   object \n",
      " 11  release_date          4802 non-null   object \n",
      " 12  revenue               4803 non-null   int64  \n",
      " 13  runtime               4801 non-null   float64\n",
      " 14  spoken_languages      4803 non-null   object \n",
      " 15  status                4803 non-null   object \n",
      " 16  tagline               3959 non-null   object \n",
      " 17  title                 4803 non-null   object \n",
      " 18  vote_average          4803 non-null   float64\n",
      " 19  vote_count            4803 non-null   int64  \n",
      " 20  title2                4803 non-null   object \n",
      " 21  cast                  4803 non-null   object \n",
      " 22  crew                  4803 non-null   object \n",
      "dtypes: float64(3), int64(4), object(16)\n",
      "memory usage: 900.6+ KB\n"
     ]
    }
   ],
   "source": [
    "# Looking at information of data set\n",
    "\n",
    "df2.info()"
   ]
  },
  {
   "cell_type": "markdown",
   "id": "81c6d1c4",
   "metadata": {},
   "source": [
    "## Data Wrangling"
   ]
  },
  {
   "cell_type": "markdown",
   "id": "24898f8a",
   "metadata": {},
   "source": [
    "### Look for duplicates to drop"
   ]
  },
  {
   "cell_type": "code",
   "execution_count": 5,
   "id": "e00684e5",
   "metadata": {},
   "outputs": [
    {
     "data": {
      "text/plain": [
       "0"
      ]
     },
     "execution_count": 5,
     "metadata": {},
     "output_type": "execute_result"
    }
   ],
   "source": [
    "# Check for duplicates\n",
    "\n",
    "df2.duplicated().sum()"
   ]
  },
  {
   "cell_type": "markdown",
   "id": "b57e9e78",
   "metadata": {},
   "source": [
    "There are no duplicates."
   ]
  },
  {
   "cell_type": "markdown",
   "id": "47eab4e0",
   "metadata": {},
   "source": [
    "### Look for missing values\n",
    "\n",
    "Using percentages shows us how much of each column has missing values."
   ]
  },
  {
   "cell_type": "code",
   "execution_count": 6,
   "id": "7a72e73c",
   "metadata": {},
   "outputs": [
    {
     "data": {
      "text/plain": [
       "budget                   0.000000\n",
       "genres                   0.000000\n",
       "homepage                64.355611\n",
       "id                       0.000000\n",
       "keywords                 0.000000\n",
       "original_language        0.000000\n",
       "original_title           0.000000\n",
       "overview                 0.062461\n",
       "popularity               0.000000\n",
       "production_companies     0.000000\n",
       "production_countries     0.000000\n",
       "release_date             0.020820\n",
       "revenue                  0.000000\n",
       "runtime                  0.041641\n",
       "spoken_languages         0.000000\n",
       "status                   0.000000\n",
       "tagline                 17.572351\n",
       "title                    0.000000\n",
       "vote_average             0.000000\n",
       "vote_count               0.000000\n",
       "title2                   0.000000\n",
       "cast                     0.000000\n",
       "crew                     0.000000\n",
       "dtype: float64"
      ]
     },
     "execution_count": 6,
     "metadata": {},
     "output_type": "execute_result"
    }
   ],
   "source": [
    "# Check for missing values using percentages\n",
    "\n",
    "df2.isnull().sum()/len(df2)*100"
   ]
  },
  {
   "cell_type": "markdown",
   "id": "5e46d2f9",
   "metadata": {},
   "source": [
    "### Dropping columns"
   ]
  },
  {
   "cell_type": "markdown",
   "id": "5b455ce9",
   "metadata": {},
   "source": [
    "Dropping columns such as homepage (website of respective movie), status (says \"Released\" for every movie), tagline (slogan for each movie), and others we will not be analyzing."
   ]
  },
  {
   "cell_type": "code",
   "execution_count": 7,
   "id": "802f507b",
   "metadata": {},
   "outputs": [],
   "source": [
    "# Dropping columns\n",
    "\n",
    "df2.drop(['homepage', 'status', 'tagline', 'overview', 'spoken_languages'], axis=1, inplace=True)"
   ]
  },
  {
   "cell_type": "code",
   "execution_count": 8,
   "id": "12274ca0",
   "metadata": {},
   "outputs": [
    {
     "data": {
      "text/html": [
       "<div>\n",
       "<style scoped>\n",
       "    .dataframe tbody tr th:only-of-type {\n",
       "        vertical-align: middle;\n",
       "    }\n",
       "\n",
       "    .dataframe tbody tr th {\n",
       "        vertical-align: top;\n",
       "    }\n",
       "\n",
       "    .dataframe thead th {\n",
       "        text-align: right;\n",
       "    }\n",
       "</style>\n",
       "<table border=\"1\" class=\"dataframe\">\n",
       "  <thead>\n",
       "    <tr style=\"text-align: right;\">\n",
       "      <th></th>\n",
       "      <th>budget</th>\n",
       "      <th>genres</th>\n",
       "      <th>id</th>\n",
       "      <th>keywords</th>\n",
       "      <th>original_language</th>\n",
       "      <th>original_title</th>\n",
       "      <th>popularity</th>\n",
       "      <th>production_companies</th>\n",
       "      <th>production_countries</th>\n",
       "      <th>release_date</th>\n",
       "      <th>revenue</th>\n",
       "      <th>runtime</th>\n",
       "      <th>title</th>\n",
       "      <th>vote_average</th>\n",
       "      <th>vote_count</th>\n",
       "      <th>title2</th>\n",
       "      <th>cast</th>\n",
       "      <th>crew</th>\n",
       "    </tr>\n",
       "  </thead>\n",
       "  <tbody>\n",
       "    <tr>\n",
       "      <th>0</th>\n",
       "      <td>237000000</td>\n",
       "      <td>[{\"id\": 28, \"name\": \"Action\"}, {\"id\": 12, \"nam...</td>\n",
       "      <td>19995</td>\n",
       "      <td>[{\"id\": 1463, \"name\": \"culture clash\"}, {\"id\":...</td>\n",
       "      <td>en</td>\n",
       "      <td>Avatar</td>\n",
       "      <td>150.437577</td>\n",
       "      <td>[{\"name\": \"Ingenious Film Partners\", \"id\": 289...</td>\n",
       "      <td>[{\"iso_3166_1\": \"US\", \"name\": \"United States o...</td>\n",
       "      <td>2009-12-10</td>\n",
       "      <td>2787965087</td>\n",
       "      <td>162.0</td>\n",
       "      <td>Avatar</td>\n",
       "      <td>7.2</td>\n",
       "      <td>11800</td>\n",
       "      <td>Avatar</td>\n",
       "      <td>[{\"cast_id\": 242, \"character\": \"Jake Sully\", \"...</td>\n",
       "      <td>[{\"credit_id\": \"52fe48009251416c750aca23\", \"de...</td>\n",
       "    </tr>\n",
       "    <tr>\n",
       "      <th>1</th>\n",
       "      <td>300000000</td>\n",
       "      <td>[{\"id\": 12, \"name\": \"Adventure\"}, {\"id\": 14, \"...</td>\n",
       "      <td>285</td>\n",
       "      <td>[{\"id\": 270, \"name\": \"ocean\"}, {\"id\": 726, \"na...</td>\n",
       "      <td>en</td>\n",
       "      <td>Pirates of the Caribbean: At World's End</td>\n",
       "      <td>139.082615</td>\n",
       "      <td>[{\"name\": \"Walt Disney Pictures\", \"id\": 2}, {\"...</td>\n",
       "      <td>[{\"iso_3166_1\": \"US\", \"name\": \"United States o...</td>\n",
       "      <td>2007-05-19</td>\n",
       "      <td>961000000</td>\n",
       "      <td>169.0</td>\n",
       "      <td>Pirates of the Caribbean: At World's End</td>\n",
       "      <td>6.9</td>\n",
       "      <td>4500</td>\n",
       "      <td>Pirates of the Caribbean: At World's End</td>\n",
       "      <td>[{\"cast_id\": 4, \"character\": \"Captain Jack Spa...</td>\n",
       "      <td>[{\"credit_id\": \"52fe4232c3a36847f800b579\", \"de...</td>\n",
       "    </tr>\n",
       "    <tr>\n",
       "      <th>2</th>\n",
       "      <td>245000000</td>\n",
       "      <td>[{\"id\": 28, \"name\": \"Action\"}, {\"id\": 12, \"nam...</td>\n",
       "      <td>206647</td>\n",
       "      <td>[{\"id\": 470, \"name\": \"spy\"}, {\"id\": 818, \"name...</td>\n",
       "      <td>en</td>\n",
       "      <td>Spectre</td>\n",
       "      <td>107.376788</td>\n",
       "      <td>[{\"name\": \"Columbia Pictures\", \"id\": 5}, {\"nam...</td>\n",
       "      <td>[{\"iso_3166_1\": \"GB\", \"name\": \"United Kingdom\"...</td>\n",
       "      <td>2015-10-26</td>\n",
       "      <td>880674609</td>\n",
       "      <td>148.0</td>\n",
       "      <td>Spectre</td>\n",
       "      <td>6.3</td>\n",
       "      <td>4466</td>\n",
       "      <td>Spectre</td>\n",
       "      <td>[{\"cast_id\": 1, \"character\": \"James Bond\", \"cr...</td>\n",
       "      <td>[{\"credit_id\": \"54805967c3a36829b5002c41\", \"de...</td>\n",
       "    </tr>\n",
       "  </tbody>\n",
       "</table>\n",
       "</div>"
      ],
      "text/plain": [
       "      budget                                             genres      id  \\\n",
       "0  237000000  [{\"id\": 28, \"name\": \"Action\"}, {\"id\": 12, \"nam...   19995   \n",
       "1  300000000  [{\"id\": 12, \"name\": \"Adventure\"}, {\"id\": 14, \"...     285   \n",
       "2  245000000  [{\"id\": 28, \"name\": \"Action\"}, {\"id\": 12, \"nam...  206647   \n",
       "\n",
       "                                            keywords original_language  \\\n",
       "0  [{\"id\": 1463, \"name\": \"culture clash\"}, {\"id\":...                en   \n",
       "1  [{\"id\": 270, \"name\": \"ocean\"}, {\"id\": 726, \"na...                en   \n",
       "2  [{\"id\": 470, \"name\": \"spy\"}, {\"id\": 818, \"name...                en   \n",
       "\n",
       "                             original_title  popularity  \\\n",
       "0                                    Avatar  150.437577   \n",
       "1  Pirates of the Caribbean: At World's End  139.082615   \n",
       "2                                   Spectre  107.376788   \n",
       "\n",
       "                                production_companies  \\\n",
       "0  [{\"name\": \"Ingenious Film Partners\", \"id\": 289...   \n",
       "1  [{\"name\": \"Walt Disney Pictures\", \"id\": 2}, {\"...   \n",
       "2  [{\"name\": \"Columbia Pictures\", \"id\": 5}, {\"nam...   \n",
       "\n",
       "                                production_countries release_date     revenue  \\\n",
       "0  [{\"iso_3166_1\": \"US\", \"name\": \"United States o...   2009-12-10  2787965087   \n",
       "1  [{\"iso_3166_1\": \"US\", \"name\": \"United States o...   2007-05-19   961000000   \n",
       "2  [{\"iso_3166_1\": \"GB\", \"name\": \"United Kingdom\"...   2015-10-26   880674609   \n",
       "\n",
       "   runtime                                     title  vote_average  \\\n",
       "0    162.0                                    Avatar           7.2   \n",
       "1    169.0  Pirates of the Caribbean: At World's End           6.9   \n",
       "2    148.0                                   Spectre           6.3   \n",
       "\n",
       "   vote_count                                    title2  \\\n",
       "0       11800                                    Avatar   \n",
       "1        4500  Pirates of the Caribbean: At World's End   \n",
       "2        4466                                   Spectre   \n",
       "\n",
       "                                                cast  \\\n",
       "0  [{\"cast_id\": 242, \"character\": \"Jake Sully\", \"...   \n",
       "1  [{\"cast_id\": 4, \"character\": \"Captain Jack Spa...   \n",
       "2  [{\"cast_id\": 1, \"character\": \"James Bond\", \"cr...   \n",
       "\n",
       "                                                crew  \n",
       "0  [{\"credit_id\": \"52fe48009251416c750aca23\", \"de...  \n",
       "1  [{\"credit_id\": \"52fe4232c3a36847f800b579\", \"de...  \n",
       "2  [{\"credit_id\": \"54805967c3a36829b5002c41\", \"de...  "
      ]
     },
     "execution_count": 8,
     "metadata": {},
     "output_type": "execute_result"
    }
   ],
   "source": [
    "# Check to see that columns are dropped\n",
    "\n",
    "df2.head(3)"
   ]
  },
  {
   "cell_type": "markdown",
   "id": "d23d0fd5",
   "metadata": {},
   "source": [
    "### Create columns for gross profit and gross profit margin"
   ]
  },
  {
   "cell_type": "code",
   "execution_count": 9,
   "id": "a51d19e3",
   "metadata": {},
   "outputs": [],
   "source": [
    "# We want one column for gross profit and another for gross profit margin\n",
    "# Throughout this project we will refer to gross profit as profit\n",
    "\n",
    "df2['profit'] = df2['revenue'] - df2['budget']\n",
    "df2['profit_margin'] = df2['profit']/df2['revenue']*100"
   ]
  },
  {
   "cell_type": "code",
   "execution_count": 10,
   "id": "0594517b",
   "metadata": {},
   "outputs": [
    {
     "data": {
      "text/html": [
       "<div>\n",
       "<style scoped>\n",
       "    .dataframe tbody tr th:only-of-type {\n",
       "        vertical-align: middle;\n",
       "    }\n",
       "\n",
       "    .dataframe tbody tr th {\n",
       "        vertical-align: top;\n",
       "    }\n",
       "\n",
       "    .dataframe thead th {\n",
       "        text-align: right;\n",
       "    }\n",
       "</style>\n",
       "<table border=\"1\" class=\"dataframe\">\n",
       "  <thead>\n",
       "    <tr style=\"text-align: right;\">\n",
       "      <th></th>\n",
       "      <th>profit</th>\n",
       "      <th>profit_margin</th>\n",
       "    </tr>\n",
       "  </thead>\n",
       "  <tbody>\n",
       "    <tr>\n",
       "      <th>0</th>\n",
       "      <td>2550965087</td>\n",
       "      <td>91.499176</td>\n",
       "    </tr>\n",
       "    <tr>\n",
       "      <th>1</th>\n",
       "      <td>661000000</td>\n",
       "      <td>68.782518</td>\n",
       "    </tr>\n",
       "    <tr>\n",
       "      <th>2</th>\n",
       "      <td>635674609</td>\n",
       "      <td>72.180417</td>\n",
       "    </tr>\n",
       "    <tr>\n",
       "      <th>3</th>\n",
       "      <td>834939099</td>\n",
       "      <td>76.957232</td>\n",
       "    </tr>\n",
       "    <tr>\n",
       "      <th>4</th>\n",
       "      <td>24139100</td>\n",
       "      <td>8.495522</td>\n",
       "    </tr>\n",
       "    <tr>\n",
       "      <th>...</th>\n",
       "      <td>...</td>\n",
       "      <td>...</td>\n",
       "    </tr>\n",
       "    <tr>\n",
       "      <th>4798</th>\n",
       "      <td>1820920</td>\n",
       "      <td>89.220548</td>\n",
       "    </tr>\n",
       "    <tr>\n",
       "      <th>4799</th>\n",
       "      <td>-9000</td>\n",
       "      <td>-inf</td>\n",
       "    </tr>\n",
       "    <tr>\n",
       "      <th>4800</th>\n",
       "      <td>0</td>\n",
       "      <td>NaN</td>\n",
       "    </tr>\n",
       "    <tr>\n",
       "      <th>4801</th>\n",
       "      <td>0</td>\n",
       "      <td>NaN</td>\n",
       "    </tr>\n",
       "    <tr>\n",
       "      <th>4802</th>\n",
       "      <td>0</td>\n",
       "      <td>NaN</td>\n",
       "    </tr>\n",
       "  </tbody>\n",
       "</table>\n",
       "<p>4803 rows × 2 columns</p>\n",
       "</div>"
      ],
      "text/plain": [
       "          profit  profit_margin\n",
       "0     2550965087      91.499176\n",
       "1      661000000      68.782518\n",
       "2      635674609      72.180417\n",
       "3      834939099      76.957232\n",
       "4       24139100       8.495522\n",
       "...          ...            ...\n",
       "4798     1820920      89.220548\n",
       "4799       -9000           -inf\n",
       "4800           0            NaN\n",
       "4801           0            NaN\n",
       "4802           0            NaN\n",
       "\n",
       "[4803 rows x 2 columns]"
      ]
     },
     "execution_count": 10,
     "metadata": {},
     "output_type": "execute_result"
    }
   ],
   "source": [
    "# Looking at the two new columns we created\n",
    "\n",
    "df2.loc[:, ['profit', 'profit_margin']]"
   ]
  },
  {
   "cell_type": "markdown",
   "id": "78adc6fb",
   "metadata": {},
   "source": [
    "***"
   ]
  },
  {
   "cell_type": "markdown",
   "id": "95cb4410",
   "metadata": {},
   "source": [
    "## Exploratory Data Analysis (EDA)"
   ]
  },
  {
   "cell_type": "markdown",
   "id": "b871f058",
   "metadata": {},
   "source": [
    "## Question 1: What is the movie that earned the highest revenue?"
   ]
  },
  {
   "cell_type": "markdown",
   "id": "85bd4e57",
   "metadata": {},
   "source": [
    "Although there is a column for the release date in yyyy-mm-dd format, let's make a new column that only has the year. "
   ]
  },
  {
   "cell_type": "code",
   "execution_count": 11,
   "id": "cd29a8f4",
   "metadata": {
    "scrolled": true
   },
   "outputs": [
    {
     "data": {
      "text/html": [
       "<div>\n",
       "<style scoped>\n",
       "    .dataframe tbody tr th:only-of-type {\n",
       "        vertical-align: middle;\n",
       "    }\n",
       "\n",
       "    .dataframe tbody tr th {\n",
       "        vertical-align: top;\n",
       "    }\n",
       "\n",
       "    .dataframe thead th {\n",
       "        text-align: right;\n",
       "    }\n",
       "</style>\n",
       "<table border=\"1\" class=\"dataframe\">\n",
       "  <thead>\n",
       "    <tr style=\"text-align: right;\">\n",
       "      <th></th>\n",
       "      <th>budget</th>\n",
       "      <th>genres</th>\n",
       "      <th>id</th>\n",
       "      <th>keywords</th>\n",
       "      <th>original_language</th>\n",
       "      <th>original_title</th>\n",
       "      <th>popularity</th>\n",
       "      <th>production_companies</th>\n",
       "      <th>production_countries</th>\n",
       "      <th>release_date</th>\n",
       "      <th>...</th>\n",
       "      <th>runtime</th>\n",
       "      <th>title</th>\n",
       "      <th>vote_average</th>\n",
       "      <th>vote_count</th>\n",
       "      <th>title2</th>\n",
       "      <th>cast</th>\n",
       "      <th>crew</th>\n",
       "      <th>profit</th>\n",
       "      <th>profit_margin</th>\n",
       "      <th>release_year</th>\n",
       "    </tr>\n",
       "  </thead>\n",
       "  <tbody>\n",
       "    <tr>\n",
       "      <th>0</th>\n",
       "      <td>237000000</td>\n",
       "      <td>[{\"id\": 28, \"name\": \"Action\"}, {\"id\": 12, \"nam...</td>\n",
       "      <td>19995</td>\n",
       "      <td>[{\"id\": 1463, \"name\": \"culture clash\"}, {\"id\":...</td>\n",
       "      <td>en</td>\n",
       "      <td>Avatar</td>\n",
       "      <td>150.437577</td>\n",
       "      <td>[{\"name\": \"Ingenious Film Partners\", \"id\": 289...</td>\n",
       "      <td>[{\"iso_3166_1\": \"US\", \"name\": \"United States o...</td>\n",
       "      <td>2009-12-10</td>\n",
       "      <td>...</td>\n",
       "      <td>162.0</td>\n",
       "      <td>Avatar</td>\n",
       "      <td>7.2</td>\n",
       "      <td>11800</td>\n",
       "      <td>Avatar</td>\n",
       "      <td>[{\"cast_id\": 242, \"character\": \"Jake Sully\", \"...</td>\n",
       "      <td>[{\"credit_id\": \"52fe48009251416c750aca23\", \"de...</td>\n",
       "      <td>2550965087</td>\n",
       "      <td>91.499176</td>\n",
       "      <td>2009</td>\n",
       "    </tr>\n",
       "    <tr>\n",
       "      <th>1</th>\n",
       "      <td>300000000</td>\n",
       "      <td>[{\"id\": 12, \"name\": \"Adventure\"}, {\"id\": 14, \"...</td>\n",
       "      <td>285</td>\n",
       "      <td>[{\"id\": 270, \"name\": \"ocean\"}, {\"id\": 726, \"na...</td>\n",
       "      <td>en</td>\n",
       "      <td>Pirates of the Caribbean: At World's End</td>\n",
       "      <td>139.082615</td>\n",
       "      <td>[{\"name\": \"Walt Disney Pictures\", \"id\": 2}, {\"...</td>\n",
       "      <td>[{\"iso_3166_1\": \"US\", \"name\": \"United States o...</td>\n",
       "      <td>2007-05-19</td>\n",
       "      <td>...</td>\n",
       "      <td>169.0</td>\n",
       "      <td>Pirates of the Caribbean: At World's End</td>\n",
       "      <td>6.9</td>\n",
       "      <td>4500</td>\n",
       "      <td>Pirates of the Caribbean: At World's End</td>\n",
       "      <td>[{\"cast_id\": 4, \"character\": \"Captain Jack Spa...</td>\n",
       "      <td>[{\"credit_id\": \"52fe4232c3a36847f800b579\", \"de...</td>\n",
       "      <td>661000000</td>\n",
       "      <td>68.782518</td>\n",
       "      <td>2007</td>\n",
       "    </tr>\n",
       "  </tbody>\n",
       "</table>\n",
       "<p>2 rows × 21 columns</p>\n",
       "</div>"
      ],
      "text/plain": [
       "      budget                                             genres     id  \\\n",
       "0  237000000  [{\"id\": 28, \"name\": \"Action\"}, {\"id\": 12, \"nam...  19995   \n",
       "1  300000000  [{\"id\": 12, \"name\": \"Adventure\"}, {\"id\": 14, \"...    285   \n",
       "\n",
       "                                            keywords original_language  \\\n",
       "0  [{\"id\": 1463, \"name\": \"culture clash\"}, {\"id\":...                en   \n",
       "1  [{\"id\": 270, \"name\": \"ocean\"}, {\"id\": 726, \"na...                en   \n",
       "\n",
       "                             original_title  popularity  \\\n",
       "0                                    Avatar  150.437577   \n",
       "1  Pirates of the Caribbean: At World's End  139.082615   \n",
       "\n",
       "                                production_companies  \\\n",
       "0  [{\"name\": \"Ingenious Film Partners\", \"id\": 289...   \n",
       "1  [{\"name\": \"Walt Disney Pictures\", \"id\": 2}, {\"...   \n",
       "\n",
       "                                production_countries release_date  ...  \\\n",
       "0  [{\"iso_3166_1\": \"US\", \"name\": \"United States o...   2009-12-10  ...   \n",
       "1  [{\"iso_3166_1\": \"US\", \"name\": \"United States o...   2007-05-19  ...   \n",
       "\n",
       "   runtime                                     title vote_average  vote_count  \\\n",
       "0    162.0                                    Avatar          7.2       11800   \n",
       "1    169.0  Pirates of the Caribbean: At World's End          6.9        4500   \n",
       "\n",
       "                                     title2  \\\n",
       "0                                    Avatar   \n",
       "1  Pirates of the Caribbean: At World's End   \n",
       "\n",
       "                                                cast  \\\n",
       "0  [{\"cast_id\": 242, \"character\": \"Jake Sully\", \"...   \n",
       "1  [{\"cast_id\": 4, \"character\": \"Captain Jack Spa...   \n",
       "\n",
       "                                                crew      profit  \\\n",
       "0  [{\"credit_id\": \"52fe48009251416c750aca23\", \"de...  2550965087   \n",
       "1  [{\"credit_id\": \"52fe4232c3a36847f800b579\", \"de...   661000000   \n",
       "\n",
       "   profit_margin  release_year  \n",
       "0      91.499176          2009  \n",
       "1      68.782518          2007  \n",
       "\n",
       "[2 rows x 21 columns]"
      ]
     },
     "execution_count": 11,
     "metadata": {},
     "output_type": "execute_result"
    }
   ],
   "source": [
    "df2['release_year'] = df2['release_date'].str[:4]\n",
    "df2.head(2)"
   ]
  },
  {
   "cell_type": "markdown",
   "id": "bc61db9b",
   "metadata": {},
   "source": [
    "To find the movie with the highest revenue, we will need to group by the title of the movie, use the sum aggregate function, and order the revenue by descending so the highest numbers appear first.\n",
    "\n",
    "We only need the revenue column to see which film earned the most revenue, but looking at budget and gross profit can offer other insights about the movie."
   ]
  },
  {
   "cell_type": "code",
   "execution_count": 12,
   "id": "24d65247",
   "metadata": {},
   "outputs": [
    {
     "data": {
      "text/html": [
       "<div>\n",
       "<style scoped>\n",
       "    .dataframe tbody tr th:only-of-type {\n",
       "        vertical-align: middle;\n",
       "    }\n",
       "\n",
       "    .dataframe tbody tr th {\n",
       "        vertical-align: top;\n",
       "    }\n",
       "\n",
       "    .dataframe thead th {\n",
       "        text-align: right;\n",
       "    }\n",
       "</style>\n",
       "<table border=\"1\" class=\"dataframe\">\n",
       "  <thead>\n",
       "    <tr style=\"text-align: right;\">\n",
       "      <th></th>\n",
       "      <th>revenue</th>\n",
       "      <th>budget</th>\n",
       "      <th>profit</th>\n",
       "    </tr>\n",
       "    <tr>\n",
       "      <th>original_title</th>\n",
       "      <th></th>\n",
       "      <th></th>\n",
       "      <th></th>\n",
       "    </tr>\n",
       "  </thead>\n",
       "  <tbody>\n",
       "    <tr>\n",
       "      <th>Avatar</th>\n",
       "      <td>2787965087</td>\n",
       "      <td>237000000</td>\n",
       "      <td>2550965087</td>\n",
       "    </tr>\n",
       "    <tr>\n",
       "      <th>Titanic</th>\n",
       "      <td>1845034188</td>\n",
       "      <td>200000000</td>\n",
       "      <td>1645034188</td>\n",
       "    </tr>\n",
       "    <tr>\n",
       "      <th>The Avengers</th>\n",
       "      <td>1519557910</td>\n",
       "      <td>220000000</td>\n",
       "      <td>1299557910</td>\n",
       "    </tr>\n",
       "    <tr>\n",
       "      <th>Jurassic World</th>\n",
       "      <td>1513528810</td>\n",
       "      <td>150000000</td>\n",
       "      <td>1363528810</td>\n",
       "    </tr>\n",
       "    <tr>\n",
       "      <th>Furious 7</th>\n",
       "      <td>1506249360</td>\n",
       "      <td>190000000</td>\n",
       "      <td>1316249360</td>\n",
       "    </tr>\n",
       "    <tr>\n",
       "      <th>Avengers: Age of Ultron</th>\n",
       "      <td>1405403694</td>\n",
       "      <td>280000000</td>\n",
       "      <td>1125403694</td>\n",
       "    </tr>\n",
       "    <tr>\n",
       "      <th>Frozen</th>\n",
       "      <td>1274219009</td>\n",
       "      <td>150000000</td>\n",
       "      <td>1124219009</td>\n",
       "    </tr>\n",
       "    <tr>\n",
       "      <th>Iron Man 3</th>\n",
       "      <td>1215439994</td>\n",
       "      <td>200000000</td>\n",
       "      <td>1015439994</td>\n",
       "    </tr>\n",
       "    <tr>\n",
       "      <th>Minions</th>\n",
       "      <td>1156730962</td>\n",
       "      <td>74000000</td>\n",
       "      <td>1082730962</td>\n",
       "    </tr>\n",
       "    <tr>\n",
       "      <th>Captain America: Civil War</th>\n",
       "      <td>1153304495</td>\n",
       "      <td>250000000</td>\n",
       "      <td>903304495</td>\n",
       "    </tr>\n",
       "  </tbody>\n",
       "</table>\n",
       "</div>"
      ],
      "text/plain": [
       "                               revenue     budget      profit\n",
       "original_title                                               \n",
       "Avatar                      2787965087  237000000  2550965087\n",
       "Titanic                     1845034188  200000000  1645034188\n",
       "The Avengers                1519557910  220000000  1299557910\n",
       "Jurassic World              1513528810  150000000  1363528810\n",
       "Furious 7                   1506249360  190000000  1316249360\n",
       "Avengers: Age of Ultron     1405403694  280000000  1125403694\n",
       "Frozen                      1274219009  150000000  1124219009\n",
       "Iron Man 3                  1215439994  200000000  1015439994\n",
       "Minions                     1156730962   74000000  1082730962\n",
       "Captain America: Civil War  1153304495  250000000   903304495"
      ]
     },
     "execution_count": 12,
     "metadata": {},
     "output_type": "execute_result"
    }
   ],
   "source": [
    "# Let's find the top 10 movies by revenue then make a bar chart\n",
    "\n",
    "top_ten_revenue = df2.groupby('original_title')[['revenue','budget','profit']].sum().sort_values('revenue',ascending=False).iloc[:10,:]\n",
    "top_ten_revenue"
   ]
  },
  {
   "cell_type": "code",
   "execution_count": 13,
   "id": "3873f1ef",
   "metadata": {
    "scrolled": false
   },
   "outputs": [
    {
     "data": {
      "text/plain": [
       "Text(0, 0.5, 'Title of Movie')"
      ]
     },
     "execution_count": 13,
     "metadata": {},
     "output_type": "execute_result"
    },
    {
     "data": {
      "image/png": "[encoded data removed]",
      "text/plain": [
       "<Figure size 1000x600 with 1 Axes>"
      ]
     },
     "metadata": {},
     "output_type": "display_data"
    }
   ],
   "source": [
    "plt.figure(figsize=(10,6))\n",
    "\n",
    "plt.title(\"Top Ten Movies by Revenue\")\n",
    "sns.barplot(x=top_ten_revenue['revenue'], y=top_ten_revenue.index, color='royalblue')\n",
    "plt.xlabel(\"Revenue ($ billions)\")\n",
    "plt.ylabel(\"Title of Movie\")"
   ]
  },
  {
   "cell_type": "markdown",
   "id": "afc4355e",
   "metadata": {},
   "source": [
    "__Avatar (2009)__ is the movie with the highest revenue.\n",
    "\n",
    "The top ten movies by revenue are *Avatar* (2009), *Titanic* (1997), *The Avengers* (2012), *Jurassic World* (2015), *Furious 7* (2015), *Avengers: Age of Ultron* (2015), *Frozen* (2013), *Iron Man 3* (2013), *Minions* (2015), and *Captain America: Civil War* (2016).\n",
    "\n",
    "It is important to note that throughout the analysis for this project, there has been no adjustment for inflation. As a result, older movies are given less weight, since ticket prices currently cost much more than they did in the past, in addititon to other variables."
   ]
  },
  {
   "cell_type": "markdown",
   "id": "bc398c6f",
   "metadata": {},
   "source": [
    "***"
   ]
  },
  {
   "cell_type": "markdown",
   "id": "37e9727f",
   "metadata": {},
   "source": [
    "## Question 2: What was the most expensive movie to make?"
   ]
  },
  {
   "cell_type": "markdown",
   "id": "f1841a81",
   "metadata": {},
   "source": [
    "To find the most expensive movie, we will need to group by the title of the movie, use the sum aggregate function, and order the budget by descending so the highest numbers appear first."
   ]
  },
  {
   "cell_type": "code",
   "execution_count": 14,
   "id": "eb4b3f32",
   "metadata": {},
   "outputs": [
    {
     "data": {
      "text/html": [
       "<div>\n",
       "<style scoped>\n",
       "    .dataframe tbody tr th:only-of-type {\n",
       "        vertical-align: middle;\n",
       "    }\n",
       "\n",
       "    .dataframe tbody tr th {\n",
       "        vertical-align: top;\n",
       "    }\n",
       "\n",
       "    .dataframe thead th {\n",
       "        text-align: right;\n",
       "    }\n",
       "</style>\n",
       "<table border=\"1\" class=\"dataframe\">\n",
       "  <thead>\n",
       "    <tr style=\"text-align: right;\">\n",
       "      <th></th>\n",
       "      <th>budget</th>\n",
       "      <th>revenue</th>\n",
       "      <th>profit</th>\n",
       "    </tr>\n",
       "    <tr>\n",
       "      <th>original_title</th>\n",
       "      <th></th>\n",
       "      <th></th>\n",
       "      <th></th>\n",
       "    </tr>\n",
       "  </thead>\n",
       "  <tbody>\n",
       "    <tr>\n",
       "      <th>Pirates of the Caribbean: On Stranger Tides</th>\n",
       "      <td>380000000</td>\n",
       "      <td>1045713802</td>\n",
       "      <td>665713802</td>\n",
       "    </tr>\n",
       "    <tr>\n",
       "      <th>Pirates of the Caribbean: At World's End</th>\n",
       "      <td>300000000</td>\n",
       "      <td>961000000</td>\n",
       "      <td>661000000</td>\n",
       "    </tr>\n",
       "    <tr>\n",
       "      <th>Avengers: Age of Ultron</th>\n",
       "      <td>280000000</td>\n",
       "      <td>1405403694</td>\n",
       "      <td>1125403694</td>\n",
       "    </tr>\n",
       "    <tr>\n",
       "      <th>Superman Returns</th>\n",
       "      <td>270000000</td>\n",
       "      <td>391081192</td>\n",
       "      <td>121081192</td>\n",
       "    </tr>\n",
       "    <tr>\n",
       "      <th>Tangled</th>\n",
       "      <td>260000000</td>\n",
       "      <td>591794936</td>\n",
       "      <td>331794936</td>\n",
       "    </tr>\n",
       "    <tr>\n",
       "      <th>John Carter</th>\n",
       "      <td>260000000</td>\n",
       "      <td>284139100</td>\n",
       "      <td>24139100</td>\n",
       "    </tr>\n",
       "    <tr>\n",
       "      <th>Spider-Man 3</th>\n",
       "      <td>258000000</td>\n",
       "      <td>890871626</td>\n",
       "      <td>632871626</td>\n",
       "    </tr>\n",
       "    <tr>\n",
       "      <th>The Lone Ranger</th>\n",
       "      <td>255000000</td>\n",
       "      <td>89289910</td>\n",
       "      <td>-165710090</td>\n",
       "    </tr>\n",
       "    <tr>\n",
       "      <th>Harry Potter and the Half-Blood Prince</th>\n",
       "      <td>250000000</td>\n",
       "      <td>933959197</td>\n",
       "      <td>683959197</td>\n",
       "    </tr>\n",
       "    <tr>\n",
       "      <th>Batman v Superman: Dawn of Justice</th>\n",
       "      <td>250000000</td>\n",
       "      <td>873260194</td>\n",
       "      <td>623260194</td>\n",
       "    </tr>\n",
       "  </tbody>\n",
       "</table>\n",
       "</div>"
      ],
      "text/plain": [
       "                                                budget     revenue      profit\n",
       "original_title                                                                \n",
       "Pirates of the Caribbean: On Stranger Tides  380000000  1045713802   665713802\n",
       "Pirates of the Caribbean: At World's End     300000000   961000000   661000000\n",
       "Avengers: Age of Ultron                      280000000  1405403694  1125403694\n",
       "Superman Returns                             270000000   391081192   121081192\n",
       "Tangled                                      260000000   591794936   331794936\n",
       "John Carter                                  260000000   284139100    24139100\n",
       "Spider-Man 3                                 258000000   890871626   632871626\n",
       "The Lone Ranger                              255000000    89289910  -165710090\n",
       "Harry Potter and the Half-Blood Prince       250000000   933959197   683959197\n",
       "Batman v Superman: Dawn of Justice           250000000   873260194   623260194"
      ]
     },
     "execution_count": 14,
     "metadata": {},
     "output_type": "execute_result"
    }
   ],
   "source": [
    "# Let's find the top 10 most expensive movies then make a bar chart\n",
    "\n",
    "top_ten_budget = df2.groupby('original_title')[['budget','revenue','profit']].sum().sort_values('budget',ascending=False).iloc[:10,:]\n",
    "top_ten_budget"
   ]
  },
  {
   "cell_type": "code",
   "execution_count": 15,
   "id": "ff81d326",
   "metadata": {},
   "outputs": [
    {
     "data": {
      "text/plain": [
       "Text(0, 0.5, 'Title of Movie')"
      ]
     },
     "execution_count": 15,
     "metadata": {},
     "output_type": "execute_result"
    },
    {
     "data": {
      "image/png": "[encoded data removed]",
      "text/plain": [
       "<Figure size 1000x600 with 1 Axes>"
      ]
     },
     "metadata": {},
     "output_type": "display_data"
    }
   ],
   "source": [
    "plt.figure(figsize=(10,6))\n",
    "\n",
    "plt.title(\"Top Ten Most Expensive Movies\")\n",
    "sns.barplot(x=top_ten_budget['budget'], y=top_ten_budget.index, color='royalblue')\n",
    "plt.xlabel(\"Budget ($100 millions)\")\n",
    "plt.ylabel(\"Title of Movie\")"
   ]
  },
  {
   "cell_type": "markdown",
   "id": "b544c1d8",
   "metadata": {},
   "source": [
    "Out of the whole data set, __Pirates of the Caribbean: On Stranger Tides (2011)__ was the most expensive movie to make as it has the highest budget.\n",
    "\n",
    "The top ten most expensive movies to make (by budget) are *Pirates of the Caribbean: On Stranger Tides* (2011), *Pirates of the Caribbean: At World's End* (2007), *Avengers: Age of Ultron* (2015), *Superman Returns* (2006), *Tangled* (2010), *John Carter* (2012), *Spider-Man 3* (2007), *The Lone Ranger* (2013), *Harry Potter and the Half-Blood Prince* (2009), and *Batman v Superman: Dawn of Justice* (2016)."
   ]
  },
  {
   "cell_type": "markdown",
   "id": "d1eb3a2d",
   "metadata": {},
   "source": [
    "***"
   ]
  },
  {
   "cell_type": "markdown",
   "id": "e2d4f13a",
   "metadata": {},
   "source": [
    "## Question 3: What was the most profitable movie?"
   ]
  },
  {
   "cell_type": "markdown",
   "id": "23ac1042",
   "metadata": {},
   "source": [
    "For this question, we can solve it similarly to the previous question. We will sort the values by profit in descending order, instead of budget."
   ]
  },
  {
   "cell_type": "code",
   "execution_count": 16,
   "id": "941e6ad7",
   "metadata": {},
   "outputs": [
    {
     "data": {
      "text/html": [
       "<div>\n",
       "<style scoped>\n",
       "    .dataframe tbody tr th:only-of-type {\n",
       "        vertical-align: middle;\n",
       "    }\n",
       "\n",
       "    .dataframe tbody tr th {\n",
       "        vertical-align: top;\n",
       "    }\n",
       "\n",
       "    .dataframe thead th {\n",
       "        text-align: right;\n",
       "    }\n",
       "</style>\n",
       "<table border=\"1\" class=\"dataframe\">\n",
       "  <thead>\n",
       "    <tr style=\"text-align: right;\">\n",
       "      <th></th>\n",
       "      <th>budget</th>\n",
       "      <th>revenue</th>\n",
       "      <th>profit</th>\n",
       "    </tr>\n",
       "    <tr>\n",
       "      <th>original_title</th>\n",
       "      <th></th>\n",
       "      <th></th>\n",
       "      <th></th>\n",
       "    </tr>\n",
       "  </thead>\n",
       "  <tbody>\n",
       "    <tr>\n",
       "      <th>Avatar</th>\n",
       "      <td>237000000</td>\n",
       "      <td>2787965087</td>\n",
       "      <td>2550965087</td>\n",
       "    </tr>\n",
       "    <tr>\n",
       "      <th>Titanic</th>\n",
       "      <td>200000000</td>\n",
       "      <td>1845034188</td>\n",
       "      <td>1645034188</td>\n",
       "    </tr>\n",
       "    <tr>\n",
       "      <th>Jurassic World</th>\n",
       "      <td>150000000</td>\n",
       "      <td>1513528810</td>\n",
       "      <td>1363528810</td>\n",
       "    </tr>\n",
       "    <tr>\n",
       "      <th>Furious 7</th>\n",
       "      <td>190000000</td>\n",
       "      <td>1506249360</td>\n",
       "      <td>1316249360</td>\n",
       "    </tr>\n",
       "    <tr>\n",
       "      <th>The Avengers</th>\n",
       "      <td>220000000</td>\n",
       "      <td>1519557910</td>\n",
       "      <td>1299557910</td>\n",
       "    </tr>\n",
       "    <tr>\n",
       "      <th>Avengers: Age of Ultron</th>\n",
       "      <td>280000000</td>\n",
       "      <td>1405403694</td>\n",
       "      <td>1125403694</td>\n",
       "    </tr>\n",
       "    <tr>\n",
       "      <th>Frozen</th>\n",
       "      <td>150000000</td>\n",
       "      <td>1274219009</td>\n",
       "      <td>1124219009</td>\n",
       "    </tr>\n",
       "    <tr>\n",
       "      <th>Minions</th>\n",
       "      <td>74000000</td>\n",
       "      <td>1156730962</td>\n",
       "      <td>1082730962</td>\n",
       "    </tr>\n",
       "    <tr>\n",
       "      <th>The Lord of the Rings: The Return of the King</th>\n",
       "      <td>94000000</td>\n",
       "      <td>1118888979</td>\n",
       "      <td>1024888979</td>\n",
       "    </tr>\n",
       "    <tr>\n",
       "      <th>Iron Man 3</th>\n",
       "      <td>200000000</td>\n",
       "      <td>1215439994</td>\n",
       "      <td>1015439994</td>\n",
       "    </tr>\n",
       "  </tbody>\n",
       "</table>\n",
       "</div>"
      ],
      "text/plain": [
       "                                                  budget     revenue  \\\n",
       "original_title                                                         \n",
       "Avatar                                         237000000  2787965087   \n",
       "Titanic                                        200000000  1845034188   \n",
       "Jurassic World                                 150000000  1513528810   \n",
       "Furious 7                                      190000000  1506249360   \n",
       "The Avengers                                   220000000  1519557910   \n",
       "Avengers: Age of Ultron                        280000000  1405403694   \n",
       "Frozen                                         150000000  1274219009   \n",
       "Minions                                         74000000  1156730962   \n",
       "The Lord of the Rings: The Return of the King   94000000  1118888979   \n",
       "Iron Man 3                                     200000000  1215439994   \n",
       "\n",
       "                                                   profit  \n",
       "original_title                                             \n",
       "Avatar                                         2550965087  \n",
       "Titanic                                        1645034188  \n",
       "Jurassic World                                 1363528810  \n",
       "Furious 7                                      1316249360  \n",
       "The Avengers                                   1299557910  \n",
       "Avengers: Age of Ultron                        1125403694  \n",
       "Frozen                                         1124219009  \n",
       "Minions                                        1082730962  \n",
       "The Lord of the Rings: The Return of the King  1024888979  \n",
       "Iron Man 3                                     1015439994  "
      ]
     },
     "execution_count": 16,
     "metadata": {},
     "output_type": "execute_result"
    }
   ],
   "source": [
    "# Let's find the top 10 most profitable movies then make a bar chart\n",
    "\n",
    "top_ten_profit = df2.groupby('original_title')[['budget','revenue','profit']].sum().sort_values('profit',ascending=False).iloc[:10,:]\n",
    "top_ten_profit"
   ]
  },
  {
   "cell_type": "code",
   "execution_count": 17,
   "id": "320d9bfe",
   "metadata": {},
   "outputs": [
    {
     "data": {
      "text/plain": [
       "Text(0, 0.5, 'Title of Movie')"
      ]
     },
     "execution_count": 17,
     "metadata": {},
     "output_type": "execute_result"
    },
    {
     "data": {
      "image/png": "[encoded data removed]",
      "text/plain": [
       "<Figure size 1000x600 with 1 Axes>"
      ]
     },
     "metadata": {},
     "output_type": "display_data"
    }
   ],
   "source": [
    "plt.figure(figsize=(10,6))\n",
    "\n",
    "plt.title(\"Top Ten Most Profitable Movies (Gross)\")\n",
    "sns.barplot(x=top_ten_profit['profit'], y=top_ten_profit.index, color='royalblue')\n",
    "plt.xlabel(\"Gross Profit ($ billions)\")\n",
    "plt.ylabel(\"Title of Movie\")"
   ]
  },
  {
   "cell_type": "markdown",
   "id": "2498f41b",
   "metadata": {},
   "source": [
    "The most profitable movie is __Avatar (2009)__.\n",
    "\n",
    "The top ten most profitable movies are *Avatar* (2009), *Titanic* (1997), *Jurassic World* (2015), *Furious 7* (2015), *The Avengers* (2012), *Avengers: Age of Ultron* (2015), *Frozen* (2013), *Minions* (2015), *The Lord of the Rings: The Return of the King* (2003), and *Iron Man 3* (2013).\n",
    "\n",
    "Not surprisingly, the most profitable movies are similar to the movies with the most revenue."
   ]
  },
  {
   "cell_type": "markdown",
   "id": "0e3e4668",
   "metadata": {},
   "source": [
    "***"
   ]
  },
  {
   "cell_type": "markdown",
   "id": "fd1e18f5",
   "metadata": {},
   "source": [
    "## Question 4: Is there a relationship between budget and profit/revenue? If a movie has a higher budget, will it lead to higher profit and revenue?"
   ]
  },
  {
   "cell_type": "code",
   "execution_count": 18,
   "id": "dac5cf23",
   "metadata": {
    "scrolled": true
   },
   "outputs": [
    {
     "data": {
      "text/html": [
       "<div>\n",
       "<style scoped>\n",
       "    .dataframe tbody tr th:only-of-type {\n",
       "        vertical-align: middle;\n",
       "    }\n",
       "\n",
       "    .dataframe tbody tr th {\n",
       "        vertical-align: top;\n",
       "    }\n",
       "\n",
       "    .dataframe thead th {\n",
       "        text-align: right;\n",
       "    }\n",
       "</style>\n",
       "<table border=\"1\" class=\"dataframe\">\n",
       "  <thead>\n",
       "    <tr style=\"text-align: right;\">\n",
       "      <th></th>\n",
       "      <th>budget</th>\n",
       "      <th>id</th>\n",
       "      <th>popularity</th>\n",
       "      <th>revenue</th>\n",
       "      <th>runtime</th>\n",
       "      <th>vote_average</th>\n",
       "      <th>vote_count</th>\n",
       "      <th>profit</th>\n",
       "      <th>profit_margin</th>\n",
       "    </tr>\n",
       "  </thead>\n",
       "  <tbody>\n",
       "    <tr>\n",
       "      <th>count</th>\n",
       "      <td>4.803000e+03</td>\n",
       "      <td>4803.000000</td>\n",
       "      <td>4803.000000</td>\n",
       "      <td>4.803000e+03</td>\n",
       "      <td>4801.000000</td>\n",
       "      <td>4803.000000</td>\n",
       "      <td>4803.000000</td>\n",
       "      <td>4.803000e+03</td>\n",
       "      <td>3913.000000</td>\n",
       "    </tr>\n",
       "    <tr>\n",
       "      <th>mean</th>\n",
       "      <td>2.904504e+07</td>\n",
       "      <td>57165.484281</td>\n",
       "      <td>21.492301</td>\n",
       "      <td>8.226064e+07</td>\n",
       "      <td>106.875859</td>\n",
       "      <td>6.092172</td>\n",
       "      <td>690.217989</td>\n",
       "      <td>5.321560e+07</td>\n",
       "      <td>-inf</td>\n",
       "    </tr>\n",
       "    <tr>\n",
       "      <th>std</th>\n",
       "      <td>4.072239e+07</td>\n",
       "      <td>88694.614033</td>\n",
       "      <td>31.816650</td>\n",
       "      <td>1.628571e+08</td>\n",
       "      <td>22.611935</td>\n",
       "      <td>1.194612</td>\n",
       "      <td>1234.585891</td>\n",
       "      <td>1.359677e+08</td>\n",
       "      <td>NaN</td>\n",
       "    </tr>\n",
       "    <tr>\n",
       "      <th>min</th>\n",
       "      <td>0.000000e+00</td>\n",
       "      <td>5.000000</td>\n",
       "      <td>0.000000</td>\n",
       "      <td>0.000000e+00</td>\n",
       "      <td>0.000000</td>\n",
       "      <td>0.000000</td>\n",
       "      <td>0.000000</td>\n",
       "      <td>-1.657101e+08</td>\n",
       "      <td>-inf</td>\n",
       "    </tr>\n",
       "    <tr>\n",
       "      <th>25%</th>\n",
       "      <td>7.900000e+05</td>\n",
       "      <td>9014.500000</td>\n",
       "      <td>4.668070</td>\n",
       "      <td>0.000000e+00</td>\n",
       "      <td>94.000000</td>\n",
       "      <td>5.600000</td>\n",
       "      <td>54.000000</td>\n",
       "      <td>-7.995375e+05</td>\n",
       "      <td>-83.333333</td>\n",
       "    </tr>\n",
       "    <tr>\n",
       "      <th>50%</th>\n",
       "      <td>1.500000e+07</td>\n",
       "      <td>14629.000000</td>\n",
       "      <td>12.921594</td>\n",
       "      <td>1.917000e+07</td>\n",
       "      <td>103.000000</td>\n",
       "      <td>6.200000</td>\n",
       "      <td>235.000000</td>\n",
       "      <td>2.511317e+06</td>\n",
       "      <td>49.975327</td>\n",
       "    </tr>\n",
       "    <tr>\n",
       "      <th>75%</th>\n",
       "      <td>4.000000e+07</td>\n",
       "      <td>58610.500000</td>\n",
       "      <td>28.313505</td>\n",
       "      <td>9.291719e+07</td>\n",
       "      <td>118.000000</td>\n",
       "      <td>6.800000</td>\n",
       "      <td>737.000000</td>\n",
       "      <td>5.531286e+07</td>\n",
       "      <td>76.887764</td>\n",
       "    </tr>\n",
       "    <tr>\n",
       "      <th>max</th>\n",
       "      <td>3.800000e+08</td>\n",
       "      <td>459488.000000</td>\n",
       "      <td>875.581305</td>\n",
       "      <td>2.787965e+09</td>\n",
       "      <td>338.000000</td>\n",
       "      <td>10.000000</td>\n",
       "      <td>13752.000000</td>\n",
       "      <td>2.550965e+09</td>\n",
       "      <td>100.000000</td>\n",
       "    </tr>\n",
       "  </tbody>\n",
       "</table>\n",
       "</div>"
      ],
      "text/plain": [
       "             budget             id   popularity       revenue      runtime  \\\n",
       "count  4.803000e+03    4803.000000  4803.000000  4.803000e+03  4801.000000   \n",
       "mean   2.904504e+07   57165.484281    21.492301  8.226064e+07   106.875859   \n",
       "std    4.072239e+07   88694.614033    31.816650  1.628571e+08    22.611935   \n",
       "min    0.000000e+00       5.000000     0.000000  0.000000e+00     0.000000   \n",
       "25%    7.900000e+05    9014.500000     4.668070  0.000000e+00    94.000000   \n",
       "50%    1.500000e+07   14629.000000    12.921594  1.917000e+07   103.000000   \n",
       "75%    4.000000e+07   58610.500000    28.313505  9.291719e+07   118.000000   \n",
       "max    3.800000e+08  459488.000000   875.581305  2.787965e+09   338.000000   \n",
       "\n",
       "       vote_average    vote_count        profit  profit_margin  \n",
       "count   4803.000000   4803.000000  4.803000e+03    3913.000000  \n",
       "mean       6.092172    690.217989  5.321560e+07           -inf  \n",
       "std        1.194612   1234.585891  1.359677e+08            NaN  \n",
       "min        0.000000      0.000000 -1.657101e+08           -inf  \n",
       "25%        5.600000     54.000000 -7.995375e+05     -83.333333  \n",
       "50%        6.200000    235.000000  2.511317e+06      49.975327  \n",
       "75%        6.800000    737.000000  5.531286e+07      76.887764  \n",
       "max       10.000000  13752.000000  2.550965e+09     100.000000  "
      ]
     },
     "execution_count": 18,
     "metadata": {},
     "output_type": "execute_result"
    }
   ],
   "source": [
    "# Let's take a closer look at the new columns we formed: profit and profit margin\n",
    "\n",
    "df2.describe()"
   ]
  },
  {
   "cell_type": "markdown",
   "id": "040ec1e9",
   "metadata": {},
   "source": [
    "There are some things that do not seem correct with this data. We know the data contains a little over 4800 movies overall, yet the count for profit margin says 3913 (about 81% of total). This means that the movies that are not counted have either \\\\$0 in revenue or budget (according to the formula we made for profit margin above).\n",
    "\n",
    "Let's change our data set so that budget is more than \\\\$0. This can be verified by looking at the data directly, as there are a sizeable number of movies that have a budget of \\\\$0, likely signifying a data quality issue."
   ]
  },
  {
   "cell_type": "code",
   "execution_count": 19,
   "id": "5db033a2",
   "metadata": {
    "scrolled": false
   },
   "outputs": [
    {
     "data": {
      "text/html": [
       "<div>\n",
       "<style scoped>\n",
       "    .dataframe tbody tr th:only-of-type {\n",
       "        vertical-align: middle;\n",
       "    }\n",
       "\n",
       "    .dataframe tbody tr th {\n",
       "        vertical-align: top;\n",
       "    }\n",
       "\n",
       "    .dataframe thead th {\n",
       "        text-align: right;\n",
       "    }\n",
       "</style>\n",
       "<table border=\"1\" class=\"dataframe\">\n",
       "  <thead>\n",
       "    <tr style=\"text-align: right;\">\n",
       "      <th></th>\n",
       "      <th>budget</th>\n",
       "      <th>id</th>\n",
       "      <th>popularity</th>\n",
       "      <th>revenue</th>\n",
       "      <th>runtime</th>\n",
       "      <th>vote_average</th>\n",
       "      <th>vote_count</th>\n",
       "      <th>profit</th>\n",
       "      <th>profit_margin</th>\n",
       "    </tr>\n",
       "  </thead>\n",
       "  <tbody>\n",
       "    <tr>\n",
       "      <th>count</th>\n",
       "      <td>3.766000e+03</td>\n",
       "      <td>3766.000000</td>\n",
       "      <td>3766.000000</td>\n",
       "      <td>3.766000e+03</td>\n",
       "      <td>3764.000000</td>\n",
       "      <td>3766.000000</td>\n",
       "      <td>3766.000000</td>\n",
       "      <td>3.766000e+03</td>\n",
       "      <td>3766.000000</td>\n",
       "    </tr>\n",
       "    <tr>\n",
       "      <th>mean</th>\n",
       "      <td>3.704284e+07</td>\n",
       "      <td>50257.822623</td>\n",
       "      <td>25.984641</td>\n",
       "      <td>1.039547e+08</td>\n",
       "      <td>109.324389</td>\n",
       "      <td>6.226474</td>\n",
       "      <td>856.496814</td>\n",
       "      <td>6.691189e+07</td>\n",
       "      <td>-inf</td>\n",
       "    </tr>\n",
       "    <tr>\n",
       "      <th>std</th>\n",
       "      <td>4.264651e+07</td>\n",
       "      <td>82138.278362</td>\n",
       "      <td>34.438253</td>\n",
       "      <td>1.776399e+08</td>\n",
       "      <td>20.753408</td>\n",
       "      <td>0.966228</td>\n",
       "      <td>1344.785690</td>\n",
       "      <td>1.503957e+08</td>\n",
       "      <td>NaN</td>\n",
       "    </tr>\n",
       "    <tr>\n",
       "      <th>min</th>\n",
       "      <td>1.000000e+00</td>\n",
       "      <td>5.000000</td>\n",
       "      <td>0.001586</td>\n",
       "      <td>0.000000e+00</td>\n",
       "      <td>0.000000</td>\n",
       "      <td>0.000000</td>\n",
       "      <td>0.000000</td>\n",
       "      <td>-1.657101e+08</td>\n",
       "      <td>-inf</td>\n",
       "    </tr>\n",
       "    <tr>\n",
       "      <th>25%</th>\n",
       "      <td>8.000000e+06</td>\n",
       "      <td>7196.750000</td>\n",
       "      <td>7.974990</td>\n",
       "      <td>6.009736e+06</td>\n",
       "      <td>95.000000</td>\n",
       "      <td>5.700000</td>\n",
       "      <td>114.000000</td>\n",
       "      <td>-4.000000e+06</td>\n",
       "      <td>-103.674947</td>\n",
       "    </tr>\n",
       "    <tr>\n",
       "      <th>50%</th>\n",
       "      <td>2.300000e+07</td>\n",
       "      <td>12097.000000</td>\n",
       "      <td>17.604955</td>\n",
       "      <td>3.883137e+07</td>\n",
       "      <td>105.500000</td>\n",
       "      <td>6.300000</td>\n",
       "      <td>365.500000</td>\n",
       "      <td>1.431553e+07</td>\n",
       "      <td>46.453399</td>\n",
       "    </tr>\n",
       "    <tr>\n",
       "      <th>75%</th>\n",
       "      <td>5.000000e+07</td>\n",
       "      <td>49523.250000</td>\n",
       "      <td>33.925801</td>\n",
       "      <td>1.220873e+08</td>\n",
       "      <td>120.000000</td>\n",
       "      <td>6.900000</td>\n",
       "      <td>969.250000</td>\n",
       "      <td>7.858474e+07</td>\n",
       "      <td>74.628456</td>\n",
       "    </tr>\n",
       "    <tr>\n",
       "      <th>max</th>\n",
       "      <td>3.800000e+08</td>\n",
       "      <td>459488.000000</td>\n",
       "      <td>875.581305</td>\n",
       "      <td>2.787965e+09</td>\n",
       "      <td>338.000000</td>\n",
       "      <td>10.000000</td>\n",
       "      <td>13752.000000</td>\n",
       "      <td>2.550965e+09</td>\n",
       "      <td>99.999988</td>\n",
       "    </tr>\n",
       "  </tbody>\n",
       "</table>\n",
       "</div>"
      ],
      "text/plain": [
       "             budget             id   popularity       revenue      runtime  \\\n",
       "count  3.766000e+03    3766.000000  3766.000000  3.766000e+03  3764.000000   \n",
       "mean   3.704284e+07   50257.822623    25.984641  1.039547e+08   109.324389   \n",
       "std    4.264651e+07   82138.278362    34.438253  1.776399e+08    20.753408   \n",
       "min    1.000000e+00       5.000000     0.001586  0.000000e+00     0.000000   \n",
       "25%    8.000000e+06    7196.750000     7.974990  6.009736e+06    95.000000   \n",
       "50%    2.300000e+07   12097.000000    17.604955  3.883137e+07   105.500000   \n",
       "75%    5.000000e+07   49523.250000    33.925801  1.220873e+08   120.000000   \n",
       "max    3.800000e+08  459488.000000   875.581305  2.787965e+09   338.000000   \n",
       "\n",
       "       vote_average    vote_count        profit  profit_margin  \n",
       "count   3766.000000   3766.000000  3.766000e+03    3766.000000  \n",
       "mean       6.226474    856.496814  6.691189e+07           -inf  \n",
       "std        0.966228   1344.785690  1.503957e+08            NaN  \n",
       "min        0.000000      0.000000 -1.657101e+08           -inf  \n",
       "25%        5.700000    114.000000 -4.000000e+06    -103.674947  \n",
       "50%        6.300000    365.500000  1.431553e+07      46.453399  \n",
       "75%        6.900000    969.250000  7.858474e+07      74.628456  \n",
       "max       10.000000  13752.000000  2.550965e+09      99.999988  "
      ]
     },
     "execution_count": 19,
     "metadata": {},
     "output_type": "execute_result"
    }
   ],
   "source": [
    "new_budget = df2.query('budget > 0')\n",
    "new_budget.describe()"
   ]
  },
  {
   "cell_type": "markdown",
   "id": "e1cef0af",
   "metadata": {},
   "source": [
    "### Relationship between budget and revenue using a scatterplot"
   ]
  },
  {
   "cell_type": "code",
   "execution_count": 20,
   "id": "49f43c08",
   "metadata": {},
   "outputs": [
    {
     "data": {
      "image/png": "[encoded data removed]",
      "text/plain": [
       "<Figure size 640x480 with 1 Axes>"
      ]
     },
     "metadata": {},
     "output_type": "display_data"
    }
   ],
   "source": [
    "sns.set_style(\"darkgrid\")\n",
    "sns.regplot(x=\"budget\", y=\"revenue\", data=new_budget, scatter_kws={\"color\":\"royalblue\"}, line_kws={\"color\":\"orange\"})\n",
    "plt.title(\"Budget vs. Revenue of TMDB Movies\")\n",
    "plt.xlabel(\"Budget ($100 millions)\")\n",
    "plt.ylabel(\"Revenue ($ billions)\");"
   ]
  },
  {
   "cell_type": "markdown",
   "id": "e9af2e46",
   "metadata": {},
   "source": [
    "There is a correlation between budget and revenue. Generally, if a movie has a higher budget, it results in a higher revenue."
   ]
  },
  {
   "cell_type": "markdown",
   "id": "eea27083",
   "metadata": {},
   "source": [
    "### Relationship between budget and profit using a scatterplot"
   ]
  },
  {
   "cell_type": "code",
   "execution_count": 21,
   "id": "6a5505d2",
   "metadata": {
    "scrolled": false
   },
   "outputs": [
    {
     "data": {
      "image/png": "[encoded data removed]",
      "text/plain": [
       "<Figure size 640x480 with 1 Axes>"
      ]
     },
     "metadata": {},
     "output_type": "display_data"
    }
   ],
   "source": [
    "sns.set_style(\"darkgrid\")\n",
    "sns.regplot(x=\"budget\", y=\"profit\", data=new_budget, scatter_kws={\"color\":\"royalblue\"}, line_kws={\"color\":\"orange\"})\n",
    "plt.title(\"Budget vs. Gross Profit of TMDB Movies\")\n",
    "plt.xlabel(\"Budget ($100 millions)\")\n",
    "plt.ylabel(\"Gross Profit ($ billions)\");"
   ]
  },
  {
   "cell_type": "markdown",
   "id": "e30509eb",
   "metadata": {},
   "source": [
    "__There is a correlation between budget and profit. Generally, if a movie has a higher budget, it results in a higher profit.__"
   ]
  },
  {
   "cell_type": "markdown",
   "id": "365a577d",
   "metadata": {},
   "source": [
    "***"
   ]
  },
  {
   "cell_type": "markdown",
   "id": "8a66aebe",
   "metadata": {},
   "source": [
    "## Question 5: What are the top movies by score?"
   ]
  },
  {
   "cell_type": "markdown",
   "id": "8b444bf8",
   "metadata": {},
   "source": [
    "### Making score column"
   ]
  },
  {
   "cell_type": "markdown",
   "id": "30d8ef98",
   "metadata": {},
   "source": [
    "To answer this question, we first need to make a column to represent scores.\n",
    "\n",
    "Although we can use the vote_average column, which represents the average votes a movie received, it would not be fair because a movie that has a 9.0 rating with 10 votes cannot be better than a movie with a 8.0 rating with 100 votes. We can use a weighted rating to help work around this problem.\n",
    "\n",
    "![](https://image.ibb.co/jYWZp9/wr.png)\n",
    "\n",
    "For this formula:\n",
    "\n",
    "- v is the number of votes for the movie\n",
    "- m is the minimum votes required to be listed in the chart\n",
    "- R is the average rating of the movie\n",
    "- C is the mean vote across the whole report\n",
    "\n",
    "Both v (vote_count) and R (vote_average) are in the data set already.\n",
    "\n",
    "We can calculate C as:"
   ]
  },
  {
   "cell_type": "code",
   "execution_count": 22,
   "id": "45b0d4d5",
   "metadata": {},
   "outputs": [
    {
     "data": {
      "text/plain": [
       "6.092171559442011"
      ]
     },
     "execution_count": 22,
     "metadata": {},
     "output_type": "execute_result"
    }
   ],
   "source": [
    "C = df2['vote_average'].mean()\n",
    "C"
   ]
  },
  {
   "cell_type": "markdown",
   "id": "d06d2928",
   "metadata": {},
   "source": [
    "The average rating of all movies is about 6 on a scale of 10.\n",
    "\n",
    "To determine __m__, the minimum votes required to be listed in the chart, we can limit the movies we look at to those with more votes than at least 90% of movies in the list. "
   ]
  },
  {
   "cell_type": "code",
   "execution_count": 23,
   "id": "4203992e",
   "metadata": {},
   "outputs": [
    {
     "data": {
      "text/plain": [
       "1838.4000000000015"
      ]
     },
     "execution_count": 23,
     "metadata": {},
     "output_type": "execute_result"
    }
   ],
   "source": [
    "m = df2['vote_count'].quantile(0.9)\n",
    "m"
   ]
  },
  {
   "cell_type": "markdown",
   "id": "98cd32d3",
   "metadata": {},
   "source": [
    "We can use a filter to get the data we want to look at, which will be movies where the __vote_count__ is greater than or equal to __m__ (the minimum votes required to be listed in the chart)"
   ]
  },
  {
   "cell_type": "code",
   "execution_count": 24,
   "id": "28c4cedf",
   "metadata": {},
   "outputs": [
    {
     "data": {
      "text/plain": [
       "(481, 21)"
      ]
     },
     "execution_count": 24,
     "metadata": {},
     "output_type": "execute_result"
    }
   ],
   "source": [
    "filtered_movies = df2.copy().loc[df2['vote_count'] >= m]\n",
    "filtered_movies.shape"
   ]
  },
  {
   "cell_type": "markdown",
   "id": "3211b784",
   "metadata": {},
   "source": [
    "After filtering, we now have __481__ movies in our data. \n",
    "\n",
    "Next, we need to make the formula for the score, which we will call __weighted_rating()__. We can do this by making a function.\n",
    "\n",
    "Afterwards, we will make our __score__ column by applying the function we just made to the filtered dataframe __filtered_movies__. "
   ]
  },
  {
   "cell_type": "code",
   "execution_count": 25,
   "id": "c419340a",
   "metadata": {},
   "outputs": [],
   "source": [
    "def weighted_rating(x, m=m, C=C):\n",
    "    v = x['vote_count']\n",
    "    R = x['vote_average']\n",
    "    # Weighted rating formula:\n",
    "    return (v/(v+m) * R) + (m/(m+v) * C)"
   ]
  },
  {
   "cell_type": "markdown",
   "id": "e7964c76",
   "metadata": {},
   "source": [
    "Make the new column __score__ using the __weighted_rating()__ function."
   ]
  },
  {
   "cell_type": "code",
   "execution_count": 26,
   "id": "5e2452bd",
   "metadata": {},
   "outputs": [],
   "source": [
    "filtered_movies['score'] = filtered_movies.apply(weighted_rating, axis=1)"
   ]
  },
  {
   "cell_type": "markdown",
   "id": "ffeeee35",
   "metadata": {},
   "source": [
    "Now, we will sort movies by the __score__ in descending order, and then output the data with 4 columns: __original_title__, __vote_count__, __vote_average__, __score__."
   ]
  },
  {
   "cell_type": "code",
   "execution_count": 27,
   "id": "7fe1cb71",
   "metadata": {},
   "outputs": [
    {
     "data": {
      "text/html": [
       "<div>\n",
       "<style scoped>\n",
       "    .dataframe tbody tr th:only-of-type {\n",
       "        vertical-align: middle;\n",
       "    }\n",
       "\n",
       "    .dataframe tbody tr th {\n",
       "        vertical-align: top;\n",
       "    }\n",
       "\n",
       "    .dataframe thead th {\n",
       "        text-align: right;\n",
       "    }\n",
       "</style>\n",
       "<table border=\"1\" class=\"dataframe\">\n",
       "  <thead>\n",
       "    <tr style=\"text-align: right;\">\n",
       "      <th></th>\n",
       "      <th>original_title</th>\n",
       "      <th>release_year</th>\n",
       "      <th>vote_count</th>\n",
       "      <th>vote_average</th>\n",
       "      <th>score</th>\n",
       "    </tr>\n",
       "  </thead>\n",
       "  <tbody>\n",
       "    <tr>\n",
       "      <th>1881</th>\n",
       "      <td>The Shawshank Redemption</td>\n",
       "      <td>1994</td>\n",
       "      <td>8205</td>\n",
       "      <td>8.5</td>\n",
       "      <td>8.059258</td>\n",
       "    </tr>\n",
       "    <tr>\n",
       "      <th>662</th>\n",
       "      <td>Fight Club</td>\n",
       "      <td>1999</td>\n",
       "      <td>9413</td>\n",
       "      <td>8.3</td>\n",
       "      <td>7.939256</td>\n",
       "    </tr>\n",
       "    <tr>\n",
       "      <th>65</th>\n",
       "      <td>The Dark Knight</td>\n",
       "      <td>2008</td>\n",
       "      <td>12002</td>\n",
       "      <td>8.2</td>\n",
       "      <td>7.920020</td>\n",
       "    </tr>\n",
       "    <tr>\n",
       "      <th>3232</th>\n",
       "      <td>Pulp Fiction</td>\n",
       "      <td>1994</td>\n",
       "      <td>8428</td>\n",
       "      <td>8.3</td>\n",
       "      <td>7.904645</td>\n",
       "    </tr>\n",
       "    <tr>\n",
       "      <th>96</th>\n",
       "      <td>Inception</td>\n",
       "      <td>2010</td>\n",
       "      <td>13752</td>\n",
       "      <td>8.1</td>\n",
       "      <td>7.863239</td>\n",
       "    </tr>\n",
       "    <tr>\n",
       "      <th>3337</th>\n",
       "      <td>The Godfather</td>\n",
       "      <td>1972</td>\n",
       "      <td>5893</td>\n",
       "      <td>8.4</td>\n",
       "      <td>7.851236</td>\n",
       "    </tr>\n",
       "    <tr>\n",
       "      <th>95</th>\n",
       "      <td>Interstellar</td>\n",
       "      <td>2014</td>\n",
       "      <td>10867</td>\n",
       "      <td>8.1</td>\n",
       "      <td>7.809479</td>\n",
       "    </tr>\n",
       "    <tr>\n",
       "      <th>809</th>\n",
       "      <td>Forrest Gump</td>\n",
       "      <td>1994</td>\n",
       "      <td>7927</td>\n",
       "      <td>8.2</td>\n",
       "      <td>7.803188</td>\n",
       "    </tr>\n",
       "    <tr>\n",
       "      <th>329</th>\n",
       "      <td>The Lord of the Rings: The Return of the King</td>\n",
       "      <td>2003</td>\n",
       "      <td>8064</td>\n",
       "      <td>8.1</td>\n",
       "      <td>7.727243</td>\n",
       "    </tr>\n",
       "    <tr>\n",
       "      <th>1990</th>\n",
       "      <td>The Empire Strikes Back</td>\n",
       "      <td>1980</td>\n",
       "      <td>5879</td>\n",
       "      <td>8.2</td>\n",
       "      <td>7.697884</td>\n",
       "    </tr>\n",
       "  </tbody>\n",
       "</table>\n",
       "</div>"
      ],
      "text/plain": [
       "                                     original_title release_year  vote_count  \\\n",
       "1881                       The Shawshank Redemption         1994        8205   \n",
       "662                                      Fight Club         1999        9413   \n",
       "65                                  The Dark Knight         2008       12002   \n",
       "3232                                   Pulp Fiction         1994        8428   \n",
       "96                                        Inception         2010       13752   \n",
       "3337                                  The Godfather         1972        5893   \n",
       "95                                     Interstellar         2014       10867   \n",
       "809                                    Forrest Gump         1994        7927   \n",
       "329   The Lord of the Rings: The Return of the King         2003        8064   \n",
       "1990                        The Empire Strikes Back         1980        5879   \n",
       "\n",
       "      vote_average     score  \n",
       "1881           8.5  8.059258  \n",
       "662            8.3  7.939256  \n",
       "65             8.2  7.920020  \n",
       "3232           8.3  7.904645  \n",
       "96             8.1  7.863239  \n",
       "3337           8.4  7.851236  \n",
       "95             8.1  7.809479  \n",
       "809            8.2  7.803188  \n",
       "329            8.1  7.727243  \n",
       "1990           8.2  7.697884  "
      ]
     },
     "execution_count": 27,
     "metadata": {},
     "output_type": "execute_result"
    }
   ],
   "source": [
    "filtered_movies = filtered_movies.sort_values('score', ascending=False)\n",
    "\n",
    "filtered_movies[['original_title', 'release_year', 'vote_count', 'vote_average', 'score']].head(10)\n",
    "\n",
    "# head(10) gives us the top 10 results"
   ]
  },
  {
   "cell_type": "markdown",
   "id": "f9ab478d",
   "metadata": {},
   "source": [
    "__The Shawshank Redemption (1994)__ has the highest score.\n",
    "\n",
    "The top 10 movies by score are *The Shawshank Redemption* (1994), *Fight Club* (1999), *The Dark Knight* (2008), *Pulp Fiction*\t(1994), *Inception* (2010), *The Godfather* (1972), *Interstellar* (2014), *Forrest Gump* (1994), *The Lord of the Rings: The Return of the King* (2003), and *The Empire Strikes Back* (1980).\n",
    "\n",
    "Remember that these movies are classified by their score, which we defined using metrics such as the number of votes the movie received, the minimum votes required to be listed in the chart, the average rating of the movie, and the mean vote across the whole report. Also, keep in mind we are looking at the 90th percentile in terms of vote_count. Furthermore, this data is gathered from TMDB, which may not accurately represent the general movie-watching populace.\n",
    "\n",
    "These movies are not necessarily the \"best\" movies of all time, since \"best\" is subjective and varies depending on how one interprets it. The \"best\" movie could be the one with the most revenue, profit, score, etc. However, these movies are all easily recognizable and many people have seen  and rated them, thus allowing them to place high by score (again, this data is from the votes and ratings given by TMDB users).\n",
    "\n",
    "Another interesting part of this result is that *none* of these movies, with the exception of *The Lord of the Rings: The Return of the King*, are in the top ten most profitable movies (which we looked at earlier). When compared to the movies with the highest revenue, none of the top scoring movies are seen in that list either. This shows that just because a movie has a high score does mean it will earn a high revenue or profit."
   ]
  },
  {
   "cell_type": "markdown",
   "id": "29a145b8",
   "metadata": {},
   "source": [
    "***"
   ]
  },
  {
   "cell_type": "markdown",
   "id": "4160774b",
   "metadata": {},
   "source": [
    "## Question 6: Which director makes the movies with the highest average profit?"
   ]
  },
  {
   "cell_type": "markdown",
   "id": "5758d8e3",
   "metadata": {},
   "source": [
    "### Simplifying some columns for analysis"
   ]
  },
  {
   "cell_type": "markdown",
   "id": "1849c5ae",
   "metadata": {},
   "source": [
    "Some columns of our data are in \"stringified\" lists, so we want to change that to make analysis easier.\n",
    "\n",
    "For this question, we want the __directors' names__ (in the crew column). In following questions, we will also want the names of __actors__ (in the cast column) as well as __genres__ (in the genres column)."
   ]
  },
  {
   "cell_type": "code",
   "execution_count": 28,
   "id": "1f9d4146",
   "metadata": {},
   "outputs": [],
   "source": [
    "from ast import literal_eval\n",
    "\n",
    "features = ['cast', 'crew', 'genres']\n",
    "for feature in features:\n",
    "    df2[feature] = df2[feature].apply(literal_eval)"
   ]
  },
  {
   "cell_type": "markdown",
   "id": "48b6a886",
   "metadata": {},
   "source": [
    "Now we will get the name of the director from the \"crew\" column. If the director is not in the column, return NaN."
   ]
  },
  {
   "cell_type": "code",
   "execution_count": 29,
   "id": "6fb59678",
   "metadata": {},
   "outputs": [],
   "source": [
    "def get_director(x):\n",
    "    for i in x:\n",
    "        if i['job'] == 'Director':\n",
    "            return i['name']\n",
    "    return np.nan"
   ]
  },
  {
   "cell_type": "markdown",
   "id": "264f2ddc",
   "metadata": {},
   "source": [
    "The columns that have the names of the actors and genres each may have more than 3 elements in them. To make analysis easier, we will return the top 3 elements (for example: the first three actors that appear, or the first three genres)."
   ]
  },
  {
   "cell_type": "code",
   "execution_count": 30,
   "id": "07f65fa3",
   "metadata": {},
   "outputs": [],
   "source": [
    "# If a list has more than three elements, return only the first three. If not, return the entire list.\n",
    "\n",
    "def get_list(x):\n",
    "    if isinstance(x, list):\n",
    "        names = [i['name'] for i in x]\n",
    "        if len(names) > 3:\n",
    "            names = names[:3]\n",
    "        return names\n",
    "# If data is missing or not useable, return empty list\n",
    "    return []"
   ]
  },
  {
   "cell_type": "markdown",
   "id": "2df91a96",
   "metadata": {},
   "source": [
    "Now, let's change the data itself and see what our new columns look like."
   ]
  },
  {
   "cell_type": "code",
   "execution_count": 31,
   "id": "5d19361e",
   "metadata": {},
   "outputs": [],
   "source": [
    "# This will simplify the \"crew\" column so we can get the director\n",
    "\n",
    "df2['director'] = df2['crew'].apply(get_director)\n",
    "\n",
    "# This will simplify the \"cast\" and \"genres\" columns so we can get the names of the actors and genres, respectively\n",
    "\n",
    "features = ['cast', 'genres']\n",
    "for feature in features:\n",
    "    df2[feature] = df2[feature].apply(get_list)"
   ]
  },
  {
   "cell_type": "code",
   "execution_count": 32,
   "id": "0b15d981",
   "metadata": {},
   "outputs": [
    {
     "data": {
      "text/html": [
       "<div>\n",
       "<style scoped>\n",
       "    .dataframe tbody tr th:only-of-type {\n",
       "        vertical-align: middle;\n",
       "    }\n",
       "\n",
       "    .dataframe tbody tr th {\n",
       "        vertical-align: top;\n",
       "    }\n",
       "\n",
       "    .dataframe thead th {\n",
       "        text-align: right;\n",
       "    }\n",
       "</style>\n",
       "<table border=\"1\" class=\"dataframe\">\n",
       "  <thead>\n",
       "    <tr style=\"text-align: right;\">\n",
       "      <th></th>\n",
       "      <th>original_title</th>\n",
       "      <th>director</th>\n",
       "      <th>cast</th>\n",
       "      <th>genres</th>\n",
       "    </tr>\n",
       "  </thead>\n",
       "  <tbody>\n",
       "    <tr>\n",
       "      <th>0</th>\n",
       "      <td>Avatar</td>\n",
       "      <td>James Cameron</td>\n",
       "      <td>[Sam Worthington, Zoe Saldana, Sigourney Weaver]</td>\n",
       "      <td>[Action, Adventure, Fantasy]</td>\n",
       "    </tr>\n",
       "    <tr>\n",
       "      <th>1</th>\n",
       "      <td>Pirates of the Caribbean: At World's End</td>\n",
       "      <td>Gore Verbinski</td>\n",
       "      <td>[Johnny Depp, Orlando Bloom, Keira Knightley]</td>\n",
       "      <td>[Adventure, Fantasy, Action]</td>\n",
       "    </tr>\n",
       "    <tr>\n",
       "      <th>2</th>\n",
       "      <td>Spectre</td>\n",
       "      <td>Sam Mendes</td>\n",
       "      <td>[Daniel Craig, Christoph Waltz, Léa Seydoux]</td>\n",
       "      <td>[Action, Adventure, Crime]</td>\n",
       "    </tr>\n",
       "  </tbody>\n",
       "</table>\n",
       "</div>"
      ],
      "text/plain": [
       "                             original_title        director  \\\n",
       "0                                    Avatar   James Cameron   \n",
       "1  Pirates of the Caribbean: At World's End  Gore Verbinski   \n",
       "2                                   Spectre      Sam Mendes   \n",
       "\n",
       "                                               cast  \\\n",
       "0  [Sam Worthington, Zoe Saldana, Sigourney Weaver]   \n",
       "1     [Johnny Depp, Orlando Bloom, Keira Knightley]   \n",
       "2      [Daniel Craig, Christoph Waltz, Léa Seydoux]   \n",
       "\n",
       "                         genres  \n",
       "0  [Action, Adventure, Fantasy]  \n",
       "1  [Adventure, Fantasy, Action]  \n",
       "2    [Action, Adventure, Crime]  "
      ]
     },
     "execution_count": 32,
     "metadata": {},
     "output_type": "execute_result"
    }
   ],
   "source": [
    "# Let's look at our new columns \n",
    "\n",
    "df2[['original_title', 'director', 'cast', 'genres']].head(3)"
   ]
  },
  {
   "cell_type": "markdown",
   "id": "f03a0645",
   "metadata": {},
   "source": [
    "### We are ready to answer the original question: Which director has made movies with the highest average profit?"
   ]
  },
  {
   "cell_type": "markdown",
   "id": "b82a0457",
   "metadata": {},
   "source": [
    "My expectations are that the directors associated with the highest average profits will be notable names such as James Cameron (*Avatar*) and Christopher Nolan (*The Dark Knight Rises*). Will I be right?"
   ]
  },
  {
   "cell_type": "code",
   "execution_count": 33,
   "id": "1dbfc96b",
   "metadata": {},
   "outputs": [
    {
     "data": {
      "text/plain": [
       "Steven Spielberg     27\n",
       "Woody Allen          21\n",
       "Martin Scorsese      20\n",
       "Clint Eastwood       20\n",
       "Ridley Scott         16\n",
       "                     ..\n",
       "Timothy Bjorklund     1\n",
       "Marcus Dunstan        1\n",
       "Lorene Scafaria       1\n",
       "Jeff Lowell           1\n",
       "Brian Herzlinger      1\n",
       "Name: director, Length: 2349, dtype: int64"
      ]
     },
     "execution_count": 33,
     "metadata": {},
     "output_type": "execute_result"
    }
   ],
   "source": [
    "# Let's first count the number of times a director has appeared to understand the data a bit more\n",
    "\n",
    "df2['director'].value_counts()"
   ]
  },
  {
   "cell_type": "markdown",
   "id": "6ea79639",
   "metadata": {},
   "source": [
    "The top five counts for directors are all notable. Since they directed more movies than others, will they also be the ones who bring in the highest average profit?"
   ]
  },
  {
   "cell_type": "code",
   "execution_count": 34,
   "id": "fd688549",
   "metadata": {},
   "outputs": [
    {
     "data": {
      "text/html": [
       "<div>\n",
       "<style scoped>\n",
       "    .dataframe tbody tr th:only-of-type {\n",
       "        vertical-align: middle;\n",
       "    }\n",
       "\n",
       "    .dataframe tbody tr th {\n",
       "        vertical-align: top;\n",
       "    }\n",
       "\n",
       "    .dataframe thead th {\n",
       "        text-align: right;\n",
       "    }\n",
       "</style>\n",
       "<table border=\"1\" class=\"dataframe\">\n",
       "  <thead>\n",
       "    <tr style=\"text-align: right;\">\n",
       "      <th></th>\n",
       "      <th>revenue</th>\n",
       "      <th>profit</th>\n",
       "    </tr>\n",
       "    <tr>\n",
       "      <th>director</th>\n",
       "      <th></th>\n",
       "      <th></th>\n",
       "    </tr>\n",
       "  </thead>\n",
       "  <tbody>\n",
       "    <tr>\n",
       "      <th>Chris Buck</th>\n",
       "      <td>1.274219e+09</td>\n",
       "      <td>1.124219e+09</td>\n",
       "    </tr>\n",
       "    <tr>\n",
       "      <th>Kyle Balda</th>\n",
       "      <td>1.156731e+09</td>\n",
       "      <td>1.082731e+09</td>\n",
       "    </tr>\n",
       "    <tr>\n",
       "      <th>Lee Unkrich</th>\n",
       "      <td>1.066970e+09</td>\n",
       "      <td>8.669697e+08</td>\n",
       "    </tr>\n",
       "    <tr>\n",
       "      <th>Joss Whedon</th>\n",
       "      <td>9.879437e+08</td>\n",
       "      <td>8.082770e+08</td>\n",
       "    </tr>\n",
       "    <tr>\n",
       "      <th>Chris Renaud</th>\n",
       "      <td>8.759583e+08</td>\n",
       "      <td>8.009583e+08</td>\n",
       "    </tr>\n",
       "  </tbody>\n",
       "</table>\n",
       "</div>"
      ],
      "text/plain": [
       "                   revenue        profit\n",
       "director                                \n",
       "Chris Buck    1.274219e+09  1.124219e+09\n",
       "Kyle Balda    1.156731e+09  1.082731e+09\n",
       "Lee Unkrich   1.066970e+09  8.669697e+08\n",
       "Joss Whedon   9.879437e+08  8.082770e+08\n",
       "Chris Renaud  8.759583e+08  8.009583e+08"
      ]
     },
     "execution_count": 34,
     "metadata": {},
     "output_type": "execute_result"
    }
   ],
   "source": [
    "successful_directors = df2\n",
    "\n",
    "# Ordering by revenue descending\n",
    "\n",
    "successful_directors.groupby('director')[['revenue', 'profit']].mean().sort_values('revenue', ascending=False).head(5)"
   ]
  },
  {
   "cell_type": "markdown",
   "id": "540361c8",
   "metadata": {},
   "source": [
    "Out of the whole data set, __Chris Buck__ is the director who has made the highest average revenue from his movies."
   ]
  },
  {
   "cell_type": "code",
   "execution_count": 35,
   "id": "6d6fa85c",
   "metadata": {},
   "outputs": [
    {
     "data": {
      "text/html": [
       "<div>\n",
       "<style scoped>\n",
       "    .dataframe tbody tr th:only-of-type {\n",
       "        vertical-align: middle;\n",
       "    }\n",
       "\n",
       "    .dataframe tbody tr th {\n",
       "        vertical-align: top;\n",
       "    }\n",
       "\n",
       "    .dataframe thead th {\n",
       "        text-align: right;\n",
       "    }\n",
       "</style>\n",
       "<table border=\"1\" class=\"dataframe\">\n",
       "  <thead>\n",
       "    <tr style=\"text-align: right;\">\n",
       "      <th></th>\n",
       "      <th>revenue</th>\n",
       "      <th>profit</th>\n",
       "    </tr>\n",
       "    <tr>\n",
       "      <th>director</th>\n",
       "      <th></th>\n",
       "      <th></th>\n",
       "    </tr>\n",
       "  </thead>\n",
       "  <tbody>\n",
       "    <tr>\n",
       "      <th>Chris Buck</th>\n",
       "      <td>1.274219e+09</td>\n",
       "      <td>1.124219e+09</td>\n",
       "    </tr>\n",
       "    <tr>\n",
       "      <th>Kyle Balda</th>\n",
       "      <td>1.156731e+09</td>\n",
       "      <td>1.082731e+09</td>\n",
       "    </tr>\n",
       "    <tr>\n",
       "      <th>Lee Unkrich</th>\n",
       "      <td>1.066970e+09</td>\n",
       "      <td>8.669697e+08</td>\n",
       "    </tr>\n",
       "    <tr>\n",
       "      <th>Joss Whedon</th>\n",
       "      <td>9.879437e+08</td>\n",
       "      <td>8.082770e+08</td>\n",
       "    </tr>\n",
       "    <tr>\n",
       "      <th>Chris Renaud</th>\n",
       "      <td>8.759583e+08</td>\n",
       "      <td>8.009583e+08</td>\n",
       "    </tr>\n",
       "  </tbody>\n",
       "</table>\n",
       "</div>"
      ],
      "text/plain": [
       "                   revenue        profit\n",
       "director                                \n",
       "Chris Buck    1.274219e+09  1.124219e+09\n",
       "Kyle Balda    1.156731e+09  1.082731e+09\n",
       "Lee Unkrich   1.066970e+09  8.669697e+08\n",
       "Joss Whedon   9.879437e+08  8.082770e+08\n",
       "Chris Renaud  8.759583e+08  8.009583e+08"
      ]
     },
     "execution_count": 35,
     "metadata": {},
     "output_type": "execute_result"
    }
   ],
   "source": [
    "# Ordering by profit descending\n",
    "\n",
    "successful_directors.groupby('director')[['revenue', 'profit']].mean().sort_values('profit', ascending=False).head(5)"
   ]
  },
  {
   "cell_type": "markdown",
   "id": "c15570e8",
   "metadata": {},
   "source": [
    "__Chris Buck__ is, on average, the most profitable director."
   ]
  },
  {
   "cell_type": "markdown",
   "id": "867a6e99",
   "metadata": {},
   "source": [
    "What movies has Chris Buck made?"
   ]
  },
  {
   "cell_type": "code",
   "execution_count": 36,
   "id": "23e61d40",
   "metadata": {},
   "outputs": [
    {
     "data": {
      "text/html": [
       "<div>\n",
       "<style scoped>\n",
       "    .dataframe tbody tr th:only-of-type {\n",
       "        vertical-align: middle;\n",
       "    }\n",
       "\n",
       "    .dataframe tbody tr th {\n",
       "        vertical-align: top;\n",
       "    }\n",
       "\n",
       "    .dataframe thead th {\n",
       "        text-align: right;\n",
       "    }\n",
       "</style>\n",
       "<table border=\"1\" class=\"dataframe\">\n",
       "  <thead>\n",
       "    <tr style=\"text-align: right;\">\n",
       "      <th></th>\n",
       "      <th>budget</th>\n",
       "      <th>genres</th>\n",
       "      <th>id</th>\n",
       "      <th>keywords</th>\n",
       "      <th>original_language</th>\n",
       "      <th>original_title</th>\n",
       "      <th>popularity</th>\n",
       "      <th>production_companies</th>\n",
       "      <th>production_countries</th>\n",
       "      <th>release_date</th>\n",
       "      <th>...</th>\n",
       "      <th>title</th>\n",
       "      <th>vote_average</th>\n",
       "      <th>vote_count</th>\n",
       "      <th>title2</th>\n",
       "      <th>cast</th>\n",
       "      <th>crew</th>\n",
       "      <th>profit</th>\n",
       "      <th>profit_margin</th>\n",
       "      <th>release_year</th>\n",
       "      <th>director</th>\n",
       "    </tr>\n",
       "  </thead>\n",
       "  <tbody>\n",
       "    <tr>\n",
       "      <th>124</th>\n",
       "      <td>150000000</td>\n",
       "      <td>[Animation, Adventure, Family]</td>\n",
       "      <td>109445</td>\n",
       "      <td>[{\"id\": 2011, \"name\": \"queen\"}, {\"id\": 4344, \"...</td>\n",
       "      <td>en</td>\n",
       "      <td>Frozen</td>\n",
       "      <td>165.125366</td>\n",
       "      <td>[{\"name\": \"Walt Disney Pictures\", \"id\": 2}, {\"...</td>\n",
       "      <td>[{\"iso_3166_1\": \"US\", \"name\": \"United States o...</td>\n",
       "      <td>2013-11-27</td>\n",
       "      <td>...</td>\n",
       "      <td>Frozen</td>\n",
       "      <td>7.3</td>\n",
       "      <td>5295</td>\n",
       "      <td>Frozen</td>\n",
       "      <td>[Kristen Bell, Idina Menzel, Jonathan Groff]</td>\n",
       "      <td>[{'credit_id': '5336340fc3a3680e960005b9', 'de...</td>\n",
       "      <td>1124219009</td>\n",
       "      <td>88.228083</td>\n",
       "      <td>2013</td>\n",
       "      <td>Chris Buck</td>\n",
       "    </tr>\n",
       "  </tbody>\n",
       "</table>\n",
       "<p>1 rows × 22 columns</p>\n",
       "</div>"
      ],
      "text/plain": [
       "        budget                          genres      id  \\\n",
       "124  150000000  [Animation, Adventure, Family]  109445   \n",
       "\n",
       "                                              keywords original_language  \\\n",
       "124  [{\"id\": 2011, \"name\": \"queen\"}, {\"id\": 4344, \"...                en   \n",
       "\n",
       "    original_title  popularity  \\\n",
       "124         Frozen  165.125366   \n",
       "\n",
       "                                  production_companies  \\\n",
       "124  [{\"name\": \"Walt Disney Pictures\", \"id\": 2}, {\"...   \n",
       "\n",
       "                                  production_countries release_date  ...  \\\n",
       "124  [{\"iso_3166_1\": \"US\", \"name\": \"United States o...   2013-11-27  ...   \n",
       "\n",
       "      title  vote_average vote_count  title2  \\\n",
       "124  Frozen           7.3       5295  Frozen   \n",
       "\n",
       "                                             cast  \\\n",
       "124  [Kristen Bell, Idina Menzel, Jonathan Groff]   \n",
       "\n",
       "                                                  crew      profit  \\\n",
       "124  [{'credit_id': '5336340fc3a3680e960005b9', 'de...  1124219009   \n",
       "\n",
       "    profit_margin  release_year    director  \n",
       "124     88.228083          2013  Chris Buck  \n",
       "\n",
       "[1 rows x 22 columns]"
      ]
     },
     "execution_count": 36,
     "metadata": {},
     "output_type": "execute_result"
    }
   ],
   "source": [
    "successful_directors.loc[successful_directors.director == 'Chris Buck'].sort_values('profit', ascending=False).head(3)"
   ]
  },
  {
   "cell_type": "markdown",
   "id": "f427ff75",
   "metadata": {},
   "source": [
    "Chris Buck directed *Frozen* (2013), an animated movie loved by people of all ages. \n",
    "\n",
    "This result comes as a surprise to me because I expected James Cameron or Christopher Nolan to be the most profitable directors on average. While these two directors may place higher when looking at total profit and not average profit, it is still interesting to see a director of animated films to be the highest profitable director on average, since most of top movies by profit are live action. "
   ]
  },
  {
   "cell_type": "markdown",
   "id": "e6b642c8",
   "metadata": {},
   "source": [
    "***"
   ]
  },
  {
   "cell_type": "markdown",
   "id": "7be1b9ba",
   "metadata": {},
   "source": [
    "## Question 7: Which actors bring in the most revenue and profit?"
   ]
  },
  {
   "cell_type": "markdown",
   "id": "1b5353cc",
   "metadata": {},
   "source": [
    "My guess is that the actors with the highest revenue will include stars such as Brad Pitt, Tom Cruise, and Tom Hanks."
   ]
  },
  {
   "cell_type": "code",
   "execution_count": 37,
   "id": "e6b44d6a",
   "metadata": {},
   "outputs": [
    {
     "data": {
      "text/html": [
       "<div>\n",
       "<style scoped>\n",
       "    .dataframe tbody tr th:only-of-type {\n",
       "        vertical-align: middle;\n",
       "    }\n",
       "\n",
       "    .dataframe tbody tr th {\n",
       "        vertical-align: top;\n",
       "    }\n",
       "\n",
       "    .dataframe thead th {\n",
       "        text-align: right;\n",
       "    }\n",
       "</style>\n",
       "<table border=\"1\" class=\"dataframe\">\n",
       "  <thead>\n",
       "    <tr style=\"text-align: right;\">\n",
       "      <th></th>\n",
       "      <th>budget</th>\n",
       "      <th>genres</th>\n",
       "      <th>id</th>\n",
       "      <th>keywords</th>\n",
       "      <th>original_language</th>\n",
       "      <th>original_title</th>\n",
       "      <th>popularity</th>\n",
       "      <th>production_companies</th>\n",
       "      <th>production_countries</th>\n",
       "      <th>release_date</th>\n",
       "      <th>...</th>\n",
       "      <th>title</th>\n",
       "      <th>vote_average</th>\n",
       "      <th>vote_count</th>\n",
       "      <th>title2</th>\n",
       "      <th>cast</th>\n",
       "      <th>crew</th>\n",
       "      <th>profit</th>\n",
       "      <th>profit_margin</th>\n",
       "      <th>release_year</th>\n",
       "      <th>director</th>\n",
       "    </tr>\n",
       "  </thead>\n",
       "  <tbody>\n",
       "    <tr>\n",
       "      <th>0</th>\n",
       "      <td>237000000</td>\n",
       "      <td>[Action, Adventure, Fantasy]</td>\n",
       "      <td>19995</td>\n",
       "      <td>[{\"id\": 1463, \"name\": \"culture clash\"}, {\"id\":...</td>\n",
       "      <td>en</td>\n",
       "      <td>Avatar</td>\n",
       "      <td>150.437577</td>\n",
       "      <td>[{\"name\": \"Ingenious Film Partners\", \"id\": 289...</td>\n",
       "      <td>[{\"iso_3166_1\": \"US\", \"name\": \"United States o...</td>\n",
       "      <td>2009-12-10</td>\n",
       "      <td>...</td>\n",
       "      <td>Avatar</td>\n",
       "      <td>7.2</td>\n",
       "      <td>11800</td>\n",
       "      <td>Avatar</td>\n",
       "      <td>Sam Worthington</td>\n",
       "      <td>[{'credit_id': '52fe48009251416c750aca23', 'de...</td>\n",
       "      <td>2550965087</td>\n",
       "      <td>91.499176</td>\n",
       "      <td>2009</td>\n",
       "      <td>James Cameron</td>\n",
       "    </tr>\n",
       "    <tr>\n",
       "      <th>0</th>\n",
       "      <td>237000000</td>\n",
       "      <td>[Action, Adventure, Fantasy]</td>\n",
       "      <td>19995</td>\n",
       "      <td>[{\"id\": 1463, \"name\": \"culture clash\"}, {\"id\":...</td>\n",
       "      <td>en</td>\n",
       "      <td>Avatar</td>\n",
       "      <td>150.437577</td>\n",
       "      <td>[{\"name\": \"Ingenious Film Partners\", \"id\": 289...</td>\n",
       "      <td>[{\"iso_3166_1\": \"US\", \"name\": \"United States o...</td>\n",
       "      <td>2009-12-10</td>\n",
       "      <td>...</td>\n",
       "      <td>Avatar</td>\n",
       "      <td>7.2</td>\n",
       "      <td>11800</td>\n",
       "      <td>Avatar</td>\n",
       "      <td>Zoe Saldana</td>\n",
       "      <td>[{'credit_id': '52fe48009251416c750aca23', 'de...</td>\n",
       "      <td>2550965087</td>\n",
       "      <td>91.499176</td>\n",
       "      <td>2009</td>\n",
       "      <td>James Cameron</td>\n",
       "    </tr>\n",
       "    <tr>\n",
       "      <th>0</th>\n",
       "      <td>237000000</td>\n",
       "      <td>[Action, Adventure, Fantasy]</td>\n",
       "      <td>19995</td>\n",
       "      <td>[{\"id\": 1463, \"name\": \"culture clash\"}, {\"id\":...</td>\n",
       "      <td>en</td>\n",
       "      <td>Avatar</td>\n",
       "      <td>150.437577</td>\n",
       "      <td>[{\"name\": \"Ingenious Film Partners\", \"id\": 289...</td>\n",
       "      <td>[{\"iso_3166_1\": \"US\", \"name\": \"United States o...</td>\n",
       "      <td>2009-12-10</td>\n",
       "      <td>...</td>\n",
       "      <td>Avatar</td>\n",
       "      <td>7.2</td>\n",
       "      <td>11800</td>\n",
       "      <td>Avatar</td>\n",
       "      <td>Sigourney Weaver</td>\n",
       "      <td>[{'credit_id': '52fe48009251416c750aca23', 'de...</td>\n",
       "      <td>2550965087</td>\n",
       "      <td>91.499176</td>\n",
       "      <td>2009</td>\n",
       "      <td>James Cameron</td>\n",
       "    </tr>\n",
       "    <tr>\n",
       "      <th>1</th>\n",
       "      <td>300000000</td>\n",
       "      <td>[Adventure, Fantasy, Action]</td>\n",
       "      <td>285</td>\n",
       "      <td>[{\"id\": 270, \"name\": \"ocean\"}, {\"id\": 726, \"na...</td>\n",
       "      <td>en</td>\n",
       "      <td>Pirates of the Caribbean: At World's End</td>\n",
       "      <td>139.082615</td>\n",
       "      <td>[{\"name\": \"Walt Disney Pictures\", \"id\": 2}, {\"...</td>\n",
       "      <td>[{\"iso_3166_1\": \"US\", \"name\": \"United States o...</td>\n",
       "      <td>2007-05-19</td>\n",
       "      <td>...</td>\n",
       "      <td>Pirates of the Caribbean: At World's End</td>\n",
       "      <td>6.9</td>\n",
       "      <td>4500</td>\n",
       "      <td>Pirates of the Caribbean: At World's End</td>\n",
       "      <td>Johnny Depp</td>\n",
       "      <td>[{'credit_id': '52fe4232c3a36847f800b579', 'de...</td>\n",
       "      <td>661000000</td>\n",
       "      <td>68.782518</td>\n",
       "      <td>2007</td>\n",
       "      <td>Gore Verbinski</td>\n",
       "    </tr>\n",
       "    <tr>\n",
       "      <th>1</th>\n",
       "      <td>300000000</td>\n",
       "      <td>[Adventure, Fantasy, Action]</td>\n",
       "      <td>285</td>\n",
       "      <td>[{\"id\": 270, \"name\": \"ocean\"}, {\"id\": 726, \"na...</td>\n",
       "      <td>en</td>\n",
       "      <td>Pirates of the Caribbean: At World's End</td>\n",
       "      <td>139.082615</td>\n",
       "      <td>[{\"name\": \"Walt Disney Pictures\", \"id\": 2}, {\"...</td>\n",
       "      <td>[{\"iso_3166_1\": \"US\", \"name\": \"United States o...</td>\n",
       "      <td>2007-05-19</td>\n",
       "      <td>...</td>\n",
       "      <td>Pirates of the Caribbean: At World's End</td>\n",
       "      <td>6.9</td>\n",
       "      <td>4500</td>\n",
       "      <td>Pirates of the Caribbean: At World's End</td>\n",
       "      <td>Orlando Bloom</td>\n",
       "      <td>[{'credit_id': '52fe4232c3a36847f800b579', 'de...</td>\n",
       "      <td>661000000</td>\n",
       "      <td>68.782518</td>\n",
       "      <td>2007</td>\n",
       "      <td>Gore Verbinski</td>\n",
       "    </tr>\n",
       "  </tbody>\n",
       "</table>\n",
       "<p>5 rows × 22 columns</p>\n",
       "</div>"
      ],
      "text/plain": [
       "      budget                        genres     id  \\\n",
       "0  237000000  [Action, Adventure, Fantasy]  19995   \n",
       "0  237000000  [Action, Adventure, Fantasy]  19995   \n",
       "0  237000000  [Action, Adventure, Fantasy]  19995   \n",
       "1  300000000  [Adventure, Fantasy, Action]    285   \n",
       "1  300000000  [Adventure, Fantasy, Action]    285   \n",
       "\n",
       "                                            keywords original_language  \\\n",
       "0  [{\"id\": 1463, \"name\": \"culture clash\"}, {\"id\":...                en   \n",
       "0  [{\"id\": 1463, \"name\": \"culture clash\"}, {\"id\":...                en   \n",
       "0  [{\"id\": 1463, \"name\": \"culture clash\"}, {\"id\":...                en   \n",
       "1  [{\"id\": 270, \"name\": \"ocean\"}, {\"id\": 726, \"na...                en   \n",
       "1  [{\"id\": 270, \"name\": \"ocean\"}, {\"id\": 726, \"na...                en   \n",
       "\n",
       "                             original_title  popularity  \\\n",
       "0                                    Avatar  150.437577   \n",
       "0                                    Avatar  150.437577   \n",
       "0                                    Avatar  150.437577   \n",
       "1  Pirates of the Caribbean: At World's End  139.082615   \n",
       "1  Pirates of the Caribbean: At World's End  139.082615   \n",
       "\n",
       "                                production_companies  \\\n",
       "0  [{\"name\": \"Ingenious Film Partners\", \"id\": 289...   \n",
       "0  [{\"name\": \"Ingenious Film Partners\", \"id\": 289...   \n",
       "0  [{\"name\": \"Ingenious Film Partners\", \"id\": 289...   \n",
       "1  [{\"name\": \"Walt Disney Pictures\", \"id\": 2}, {\"...   \n",
       "1  [{\"name\": \"Walt Disney Pictures\", \"id\": 2}, {\"...   \n",
       "\n",
       "                                production_countries release_date  ...  \\\n",
       "0  [{\"iso_3166_1\": \"US\", \"name\": \"United States o...   2009-12-10  ...   \n",
       "0  [{\"iso_3166_1\": \"US\", \"name\": \"United States o...   2009-12-10  ...   \n",
       "0  [{\"iso_3166_1\": \"US\", \"name\": \"United States o...   2009-12-10  ...   \n",
       "1  [{\"iso_3166_1\": \"US\", \"name\": \"United States o...   2007-05-19  ...   \n",
       "1  [{\"iso_3166_1\": \"US\", \"name\": \"United States o...   2007-05-19  ...   \n",
       "\n",
       "                                      title  vote_average vote_count  \\\n",
       "0                                    Avatar           7.2      11800   \n",
       "0                                    Avatar           7.2      11800   \n",
       "0                                    Avatar           7.2      11800   \n",
       "1  Pirates of the Caribbean: At World's End           6.9       4500   \n",
       "1  Pirates of the Caribbean: At World's End           6.9       4500   \n",
       "\n",
       "                                     title2              cast  \\\n",
       "0                                    Avatar   Sam Worthington   \n",
       "0                                    Avatar       Zoe Saldana   \n",
       "0                                    Avatar  Sigourney Weaver   \n",
       "1  Pirates of the Caribbean: At World's End       Johnny Depp   \n",
       "1  Pirates of the Caribbean: At World's End     Orlando Bloom   \n",
       "\n",
       "                                                crew      profit  \\\n",
       "0  [{'credit_id': '52fe48009251416c750aca23', 'de...  2550965087   \n",
       "0  [{'credit_id': '52fe48009251416c750aca23', 'de...  2550965087   \n",
       "0  [{'credit_id': '52fe48009251416c750aca23', 'de...  2550965087   \n",
       "1  [{'credit_id': '52fe4232c3a36847f800b579', 'de...   661000000   \n",
       "1  [{'credit_id': '52fe4232c3a36847f800b579', 'de...   661000000   \n",
       "\n",
       "  profit_margin  release_year        director  \n",
       "0     91.499176          2009   James Cameron  \n",
       "0     91.499176          2009   James Cameron  \n",
       "0     91.499176          2009   James Cameron  \n",
       "1     68.782518          2007  Gore Verbinski  \n",
       "1     68.782518          2007  Gore Verbinski  \n",
       "\n",
       "[5 rows x 22 columns]"
      ]
     },
     "execution_count": 37,
     "metadata": {},
     "output_type": "execute_result"
    }
   ],
   "source": [
    "# Cast column is separated by commas. We need to group by each actor individually so we will use the \"explode()\" function\n",
    "# Notice how for the movie \"Avatar\" there are 3 records, and each one has a different actor, up to three, which is exactly what we want\n",
    "\n",
    "updated_cast = df2.explode('cast')\n",
    "updated_cast.head()"
   ]
  },
  {
   "cell_type": "code",
   "execution_count": 38,
   "id": "166f2c70",
   "metadata": {},
   "outputs": [
    {
     "data": {
      "text/plain": [
       "Robert De Niro        46\n",
       "Matt Damon            35\n",
       "Bruce Willis          35\n",
       "Samuel L. Jackson     35\n",
       "Nicolas Cage          34\n",
       "                      ..\n",
       "Mykelti Williamson     1\n",
       "Eddie Albert           1\n",
       "Paul Anka              1\n",
       "Arletty                1\n",
       "Brian Herzlinger       1\n",
       "Name: cast, Length: 5687, dtype: int64"
      ]
     },
     "execution_count": 38,
     "metadata": {},
     "output_type": "execute_result"
    }
   ],
   "source": [
    "updated_cast['cast'].value_counts()"
   ]
  },
  {
   "cell_type": "code",
   "execution_count": 39,
   "id": "9e328894",
   "metadata": {},
   "outputs": [
    {
     "data": {
      "text/html": [
       "<div>\n",
       "<style scoped>\n",
       "    .dataframe tbody tr th:only-of-type {\n",
       "        vertical-align: middle;\n",
       "    }\n",
       "\n",
       "    .dataframe tbody tr th {\n",
       "        vertical-align: top;\n",
       "    }\n",
       "\n",
       "    .dataframe thead th {\n",
       "        text-align: right;\n",
       "    }\n",
       "</style>\n",
       "<table border=\"1\" class=\"dataframe\">\n",
       "  <thead>\n",
       "    <tr style=\"text-align: right;\">\n",
       "      <th></th>\n",
       "      <th>revenue</th>\n",
       "      <th>profit</th>\n",
       "    </tr>\n",
       "    <tr>\n",
       "      <th>cast</th>\n",
       "      <th></th>\n",
       "      <th></th>\n",
       "    </tr>\n",
       "  </thead>\n",
       "  <tbody>\n",
       "    <tr>\n",
       "      <th>Tom Cruise</th>\n",
       "      <td>8381783360</td>\n",
       "      <td>6172983360</td>\n",
       "    </tr>\n",
       "    <tr>\n",
       "      <th>Robert Downey Jr.</th>\n",
       "      <td>8140770181</td>\n",
       "      <td>6218970181</td>\n",
       "    </tr>\n",
       "    <tr>\n",
       "      <th>Tom Hanks</th>\n",
       "      <td>7886617241</td>\n",
       "      <td>6072617241</td>\n",
       "    </tr>\n",
       "    <tr>\n",
       "      <th>Johnny Depp</th>\n",
       "      <td>7874365082</td>\n",
       "      <td>4883865082</td>\n",
       "    </tr>\n",
       "    <tr>\n",
       "      <th>Ian McKellen</th>\n",
       "      <td>7854210133</td>\n",
       "      <td>6159210133</td>\n",
       "    </tr>\n",
       "  </tbody>\n",
       "</table>\n",
       "</div>"
      ],
      "text/plain": [
       "                      revenue      profit\n",
       "cast                                     \n",
       "Tom Cruise         8381783360  6172983360\n",
       "Robert Downey Jr.  8140770181  6218970181\n",
       "Tom Hanks          7886617241  6072617241\n",
       "Johnny Depp        7874365082  4883865082\n",
       "Ian McKellen       7854210133  6159210133"
      ]
     },
     "execution_count": 39,
     "metadata": {},
     "output_type": "execute_result"
    }
   ],
   "source": [
    "# This code gives us the top 5 actors by revenue\n",
    "\n",
    "updated_cast.groupby('cast')[['revenue', 'profit']].sum().sort_values('revenue', ascending=False).head(5)"
   ]
  },
  {
   "cell_type": "markdown",
   "id": "5cfb06fc",
   "metadata": {},
   "source": [
    "The top five actors by revenue are Tom Cruise, Robert Downey Jr., Tom Hanks, Johnny Depp, and Ian McKellen.\n",
    "\n"
   ]
  },
  {
   "cell_type": "code",
   "execution_count": 40,
   "id": "29ebdab8",
   "metadata": {},
   "outputs": [
    {
     "data": {
      "text/html": [
       "<div>\n",
       "<style scoped>\n",
       "    .dataframe tbody tr th:only-of-type {\n",
       "        vertical-align: middle;\n",
       "    }\n",
       "\n",
       "    .dataframe tbody tr th {\n",
       "        vertical-align: top;\n",
       "    }\n",
       "\n",
       "    .dataframe thead th {\n",
       "        text-align: right;\n",
       "    }\n",
       "</style>\n",
       "<table border=\"1\" class=\"dataframe\">\n",
       "  <thead>\n",
       "    <tr style=\"text-align: right;\">\n",
       "      <th></th>\n",
       "      <th>revenue</th>\n",
       "      <th>profit</th>\n",
       "    </tr>\n",
       "    <tr>\n",
       "      <th>cast</th>\n",
       "      <th></th>\n",
       "      <th></th>\n",
       "    </tr>\n",
       "  </thead>\n",
       "  <tbody>\n",
       "    <tr>\n",
       "      <th>Robert Downey Jr.</th>\n",
       "      <td>8140770181</td>\n",
       "      <td>6218970181</td>\n",
       "    </tr>\n",
       "    <tr>\n",
       "      <th>Tom Cruise</th>\n",
       "      <td>8381783360</td>\n",
       "      <td>6172983360</td>\n",
       "    </tr>\n",
       "    <tr>\n",
       "      <th>Ian McKellen</th>\n",
       "      <td>7854210133</td>\n",
       "      <td>6159210133</td>\n",
       "    </tr>\n",
       "    <tr>\n",
       "      <th>Tom Hanks</th>\n",
       "      <td>7886617241</td>\n",
       "      <td>6072617241</td>\n",
       "    </tr>\n",
       "    <tr>\n",
       "      <th>Will Smith</th>\n",
       "      <td>7407823910</td>\n",
       "      <td>5296723910</td>\n",
       "    </tr>\n",
       "  </tbody>\n",
       "</table>\n",
       "</div>"
      ],
      "text/plain": [
       "                      revenue      profit\n",
       "cast                                     \n",
       "Robert Downey Jr.  8140770181  6218970181\n",
       "Tom Cruise         8381783360  6172983360\n",
       "Ian McKellen       7854210133  6159210133\n",
       "Tom Hanks          7886617241  6072617241\n",
       "Will Smith         7407823910  5296723910"
      ]
     },
     "execution_count": 40,
     "metadata": {},
     "output_type": "execute_result"
    }
   ],
   "source": [
    "# Let's also find the top 5 actors by profit\n",
    "\n",
    "updated_cast.groupby('cast')[['revenue', 'profit']].sum().sort_values('profit', ascending=False).head(5)"
   ]
  },
  {
   "cell_type": "markdown",
   "id": "02fafa76",
   "metadata": {},
   "source": [
    "The top five actors by profit are Robert Downey Jr., Tom Cruise, Ian McKellen, Tom Hanks, and Will Smith.\n",
    "\n",
    "So, the actor with the highest revenue is __Tom Cruise__, and the actor with the highest profit is __Robert Downey Jr__."
   ]
  },
  {
   "cell_type": "markdown",
   "id": "adb8b91b",
   "metadata": {},
   "source": [
    "This comes as a slight surprise. I did not expect Robert Downey Jr. to be included in the top five for either list. Though, he has been an actor for decades and has played a pivotal character, Tony Stark, in the Marvel Cinematic Universe (*Iron Man* and *Avengers* movies, among others).\n",
    "\n",
    "Note that the data set does not include movies after 2016, so this list may look different as Marvel's *Avengers: Infinity War* (2018) and *Avengers: Endgame* (2019), two of some of the highest grossing films of all time (source: https://www.boxofficemojo.com/chart/top_lifetime_gross/?area=XWW), were released in following years.\n",
    "\n",
    "If the data set were updated to include movies up to 2019, I would guess that the top five actors by revenue or profit would include other actors who have been in many Marvel movies, such as Chris Evans, Chris Hemsworth, and Scarlett Johansson. "
   ]
  },
  {
   "cell_type": "markdown",
   "id": "755ee918",
   "metadata": {},
   "source": [
    "***"
   ]
  },
  {
   "cell_type": "markdown",
   "id": "b9d983a8",
   "metadata": {},
   "source": [
    "## Question 8: Which genres make the highest revenue and profit?"
   ]
  },
  {
   "cell_type": "markdown",
   "id": "a6af2de1",
   "metadata": {},
   "source": [
    "My guess is that the genre with the highest revenue and profit will be action."
   ]
  },
  {
   "cell_type": "code",
   "execution_count": 41,
   "id": "d79cae5e",
   "metadata": {},
   "outputs": [
    {
     "data": {
      "text/html": [
       "<div>\n",
       "<style scoped>\n",
       "    .dataframe tbody tr th:only-of-type {\n",
       "        vertical-align: middle;\n",
       "    }\n",
       "\n",
       "    .dataframe tbody tr th {\n",
       "        vertical-align: top;\n",
       "    }\n",
       "\n",
       "    .dataframe thead th {\n",
       "        text-align: right;\n",
       "    }\n",
       "</style>\n",
       "<table border=\"1\" class=\"dataframe\">\n",
       "  <thead>\n",
       "    <tr style=\"text-align: right;\">\n",
       "      <th></th>\n",
       "      <th>budget</th>\n",
       "      <th>genres</th>\n",
       "      <th>id</th>\n",
       "      <th>keywords</th>\n",
       "      <th>original_language</th>\n",
       "      <th>original_title</th>\n",
       "      <th>popularity</th>\n",
       "      <th>production_companies</th>\n",
       "      <th>production_countries</th>\n",
       "      <th>release_date</th>\n",
       "      <th>...</th>\n",
       "      <th>title</th>\n",
       "      <th>vote_average</th>\n",
       "      <th>vote_count</th>\n",
       "      <th>title2</th>\n",
       "      <th>cast</th>\n",
       "      <th>crew</th>\n",
       "      <th>profit</th>\n",
       "      <th>profit_margin</th>\n",
       "      <th>release_year</th>\n",
       "      <th>director</th>\n",
       "    </tr>\n",
       "  </thead>\n",
       "  <tbody>\n",
       "    <tr>\n",
       "      <th>0</th>\n",
       "      <td>237000000</td>\n",
       "      <td>Action</td>\n",
       "      <td>19995</td>\n",
       "      <td>[{\"id\": 1463, \"name\": \"culture clash\"}, {\"id\":...</td>\n",
       "      <td>en</td>\n",
       "      <td>Avatar</td>\n",
       "      <td>150.437577</td>\n",
       "      <td>[{\"name\": \"Ingenious Film Partners\", \"id\": 289...</td>\n",
       "      <td>[{\"iso_3166_1\": \"US\", \"name\": \"United States o...</td>\n",
       "      <td>2009-12-10</td>\n",
       "      <td>...</td>\n",
       "      <td>Avatar</td>\n",
       "      <td>7.2</td>\n",
       "      <td>11800</td>\n",
       "      <td>Avatar</td>\n",
       "      <td>[Sam Worthington, Zoe Saldana, Sigourney Weaver]</td>\n",
       "      <td>[{'credit_id': '52fe48009251416c750aca23', 'de...</td>\n",
       "      <td>2550965087</td>\n",
       "      <td>91.499176</td>\n",
       "      <td>2009</td>\n",
       "      <td>James Cameron</td>\n",
       "    </tr>\n",
       "    <tr>\n",
       "      <th>0</th>\n",
       "      <td>237000000</td>\n",
       "      <td>Adventure</td>\n",
       "      <td>19995</td>\n",
       "      <td>[{\"id\": 1463, \"name\": \"culture clash\"}, {\"id\":...</td>\n",
       "      <td>en</td>\n",
       "      <td>Avatar</td>\n",
       "      <td>150.437577</td>\n",
       "      <td>[{\"name\": \"Ingenious Film Partners\", \"id\": 289...</td>\n",
       "      <td>[{\"iso_3166_1\": \"US\", \"name\": \"United States o...</td>\n",
       "      <td>2009-12-10</td>\n",
       "      <td>...</td>\n",
       "      <td>Avatar</td>\n",
       "      <td>7.2</td>\n",
       "      <td>11800</td>\n",
       "      <td>Avatar</td>\n",
       "      <td>[Sam Worthington, Zoe Saldana, Sigourney Weaver]</td>\n",
       "      <td>[{'credit_id': '52fe48009251416c750aca23', 'de...</td>\n",
       "      <td>2550965087</td>\n",
       "      <td>91.499176</td>\n",
       "      <td>2009</td>\n",
       "      <td>James Cameron</td>\n",
       "    </tr>\n",
       "    <tr>\n",
       "      <th>0</th>\n",
       "      <td>237000000</td>\n",
       "      <td>Fantasy</td>\n",
       "      <td>19995</td>\n",
       "      <td>[{\"id\": 1463, \"name\": \"culture clash\"}, {\"id\":...</td>\n",
       "      <td>en</td>\n",
       "      <td>Avatar</td>\n",
       "      <td>150.437577</td>\n",
       "      <td>[{\"name\": \"Ingenious Film Partners\", \"id\": 289...</td>\n",
       "      <td>[{\"iso_3166_1\": \"US\", \"name\": \"United States o...</td>\n",
       "      <td>2009-12-10</td>\n",
       "      <td>...</td>\n",
       "      <td>Avatar</td>\n",
       "      <td>7.2</td>\n",
       "      <td>11800</td>\n",
       "      <td>Avatar</td>\n",
       "      <td>[Sam Worthington, Zoe Saldana, Sigourney Weaver]</td>\n",
       "      <td>[{'credit_id': '52fe48009251416c750aca23', 'de...</td>\n",
       "      <td>2550965087</td>\n",
       "      <td>91.499176</td>\n",
       "      <td>2009</td>\n",
       "      <td>James Cameron</td>\n",
       "    </tr>\n",
       "  </tbody>\n",
       "</table>\n",
       "<p>3 rows × 22 columns</p>\n",
       "</div>"
      ],
      "text/plain": [
       "      budget     genres     id  \\\n",
       "0  237000000     Action  19995   \n",
       "0  237000000  Adventure  19995   \n",
       "0  237000000    Fantasy  19995   \n",
       "\n",
       "                                            keywords original_language  \\\n",
       "0  [{\"id\": 1463, \"name\": \"culture clash\"}, {\"id\":...                en   \n",
       "0  [{\"id\": 1463, \"name\": \"culture clash\"}, {\"id\":...                en   \n",
       "0  [{\"id\": 1463, \"name\": \"culture clash\"}, {\"id\":...                en   \n",
       "\n",
       "  original_title  popularity  \\\n",
       "0         Avatar  150.437577   \n",
       "0         Avatar  150.437577   \n",
       "0         Avatar  150.437577   \n",
       "\n",
       "                                production_companies  \\\n",
       "0  [{\"name\": \"Ingenious Film Partners\", \"id\": 289...   \n",
       "0  [{\"name\": \"Ingenious Film Partners\", \"id\": 289...   \n",
       "0  [{\"name\": \"Ingenious Film Partners\", \"id\": 289...   \n",
       "\n",
       "                                production_countries release_date  ...  \\\n",
       "0  [{\"iso_3166_1\": \"US\", \"name\": \"United States o...   2009-12-10  ...   \n",
       "0  [{\"iso_3166_1\": \"US\", \"name\": \"United States o...   2009-12-10  ...   \n",
       "0  [{\"iso_3166_1\": \"US\", \"name\": \"United States o...   2009-12-10  ...   \n",
       "\n",
       "    title  vote_average vote_count  title2  \\\n",
       "0  Avatar           7.2      11800  Avatar   \n",
       "0  Avatar           7.2      11800  Avatar   \n",
       "0  Avatar           7.2      11800  Avatar   \n",
       "\n",
       "                                               cast  \\\n",
       "0  [Sam Worthington, Zoe Saldana, Sigourney Weaver]   \n",
       "0  [Sam Worthington, Zoe Saldana, Sigourney Weaver]   \n",
       "0  [Sam Worthington, Zoe Saldana, Sigourney Weaver]   \n",
       "\n",
       "                                                crew      profit  \\\n",
       "0  [{'credit_id': '52fe48009251416c750aca23', 'de...  2550965087   \n",
       "0  [{'credit_id': '52fe48009251416c750aca23', 'de...  2550965087   \n",
       "0  [{'credit_id': '52fe48009251416c750aca23', 'de...  2550965087   \n",
       "\n",
       "  profit_margin  release_year       director  \n",
       "0     91.499176          2009  James Cameron  \n",
       "0     91.499176          2009  James Cameron  \n",
       "0     91.499176          2009  James Cameron  \n",
       "\n",
       "[3 rows x 22 columns]"
      ]
     },
     "execution_count": 41,
     "metadata": {},
     "output_type": "execute_result"
    }
   ],
   "source": [
    "# Let's use the explode function like we did for the previous question\n",
    "# We can see for the movie Avatar, it breaks down into three genres: Action, Adventure, and Fantasy\n",
    "\n",
    "all_genres = df2.explode('genres')\n",
    "all_genres.head(3)"
   ]
  },
  {
   "cell_type": "code",
   "execution_count": 42,
   "id": "44694c4f",
   "metadata": {},
   "outputs": [
    {
     "data": {
      "text/plain": [
       "Drama              2256\n",
       "Comedy             1669\n",
       "Action             1129\n",
       "Thriller           1005\n",
       "Romance             775\n",
       "Adventure           755\n",
       "Crime               617\n",
       "Horror              501\n",
       "Science Fiction     413\n",
       "Family              408\n",
       "Fantasy             354\n",
       "Mystery             293\n",
       "Animation           228\n",
       "History             172\n",
       "Music               156\n",
       "Documentary         110\n",
       "War                 104\n",
       "Western              57\n",
       "Foreign              28\n",
       "TV Movie              5\n",
       "Name: genres, dtype: int64"
      ]
     },
     "execution_count": 42,
     "metadata": {},
     "output_type": "execute_result"
    }
   ],
   "source": [
    "all_genres['genres'].value_counts()"
   ]
  },
  {
   "cell_type": "markdown",
   "id": "d11d0270",
   "metadata": {},
   "source": [
    "The most common genre is __drama__.\n",
    "\n",
    "Let's make a bar chart showing the top ten genres by __revenue__."
   ]
  },
  {
   "cell_type": "code",
   "execution_count": 43,
   "id": "8317bee0",
   "metadata": {},
   "outputs": [
    {
     "data": {
      "text/plain": [
       "Drama              2256\n",
       "Comedy             1669\n",
       "Action             1129\n",
       "Thriller           1005\n",
       "Romance             775\n",
       "Adventure           755\n",
       "Crime               617\n",
       "Horror              501\n",
       "Science Fiction     413\n",
       "Family              408\n",
       "Name: genres, dtype: int64"
      ]
     },
     "execution_count": 43,
     "metadata": {},
     "output_type": "execute_result"
    }
   ],
   "source": [
    "all_genres['genres'].value_counts().head(10)"
   ]
  },
  {
   "cell_type": "code",
   "execution_count": 44,
   "id": "bdf97d57",
   "metadata": {},
   "outputs": [
    {
     "data": {
      "text/html": [
       "<div>\n",
       "<style scoped>\n",
       "    .dataframe tbody tr th:only-of-type {\n",
       "        vertical-align: middle;\n",
       "    }\n",
       "\n",
       "    .dataframe tbody tr th {\n",
       "        vertical-align: top;\n",
       "    }\n",
       "\n",
       "    .dataframe thead th {\n",
       "        text-align: right;\n",
       "    }\n",
       "</style>\n",
       "<table border=\"1\" class=\"dataframe\">\n",
       "  <thead>\n",
       "    <tr style=\"text-align: right;\">\n",
       "      <th></th>\n",
       "      <th>revenue</th>\n",
       "      <th>profit</th>\n",
       "    </tr>\n",
       "    <tr>\n",
       "      <th>genres</th>\n",
       "      <th></th>\n",
       "      <th></th>\n",
       "    </tr>\n",
       "  </thead>\n",
       "  <tbody>\n",
       "    <tr>\n",
       "      <th>Action</th>\n",
       "      <td>160448354229</td>\n",
       "      <td>102238947630</td>\n",
       "    </tr>\n",
       "    <tr>\n",
       "      <th>Adventure</th>\n",
       "      <td>157031983358</td>\n",
       "      <td>107225747898</td>\n",
       "    </tr>\n",
       "    <tr>\n",
       "      <th>Drama</th>\n",
       "      <td>117102116900</td>\n",
       "      <td>71089054743</td>\n",
       "    </tr>\n",
       "    <tr>\n",
       "      <th>Comedy</th>\n",
       "      <td>112082996114</td>\n",
       "      <td>72334884305</td>\n",
       "    </tr>\n",
       "    <tr>\n",
       "      <th>Thriller</th>\n",
       "      <td>79011464592</td>\n",
       "      <td>49496444706</td>\n",
       "    </tr>\n",
       "    <tr>\n",
       "      <th>Fantasy</th>\n",
       "      <td>66829567950</td>\n",
       "      <td>44677871355</td>\n",
       "    </tr>\n",
       "    <tr>\n",
       "      <th>Science Fiction</th>\n",
       "      <td>62185240770</td>\n",
       "      <td>41763108713</td>\n",
       "    </tr>\n",
       "    <tr>\n",
       "      <th>Family</th>\n",
       "      <td>62021925944</td>\n",
       "      <td>42487583403</td>\n",
       "    </tr>\n",
       "    <tr>\n",
       "      <th>Animation</th>\n",
       "      <td>50398947704</td>\n",
       "      <td>35435926648</td>\n",
       "    </tr>\n",
       "    <tr>\n",
       "      <th>Romance</th>\n",
       "      <td>43462147652</td>\n",
       "      <td>28869758702</td>\n",
       "    </tr>\n",
       "  </tbody>\n",
       "</table>\n",
       "</div>"
      ],
      "text/plain": [
       "                      revenue        profit\n",
       "genres                                     \n",
       "Action           160448354229  102238947630\n",
       "Adventure        157031983358  107225747898\n",
       "Drama            117102116900   71089054743\n",
       "Comedy           112082996114   72334884305\n",
       "Thriller          79011464592   49496444706\n",
       "Fantasy           66829567950   44677871355\n",
       "Science Fiction   62185240770   41763108713\n",
       "Family            62021925944   42487583403\n",
       "Animation         50398947704   35435926648\n",
       "Romance           43462147652   28869758702"
      ]
     },
     "execution_count": 44,
     "metadata": {},
     "output_type": "execute_result"
    }
   ],
   "source": [
    "top_ten_genres_revenue = all_genres.groupby('genres')[['genres', 'revenue', 'profit']].sum().sort_values('revenue', ascending=False).head(10)\n",
    "top_ten_genres_revenue"
   ]
  },
  {
   "cell_type": "code",
   "execution_count": 45,
   "id": "e34dd1ae",
   "metadata": {},
   "outputs": [
    {
     "data": {
      "text/plain": [
       "Text(0, 0.5, 'Genre')"
      ]
     },
     "execution_count": 45,
     "metadata": {},
     "output_type": "execute_result"
    },
    {
     "data": {
      "image/png": "[encoded data removed]",
      "text/plain": [
       "<Figure size 1000x600 with 1 Axes>"
      ]
     },
     "metadata": {},
     "output_type": "display_data"
    }
   ],
   "source": [
    "plt.figure(figsize=(10,6))\n",
    "\n",
    "plt.title(\"Top Ten Highest Revenue Genres\")\n",
    "sns.barplot(x=top_ten_genres_revenue['revenue'], y=top_ten_genres_revenue.index, color='royalblue')\n",
    "plt.xlabel(\"Revenue ($100 billions)\")\n",
    "plt.ylabel(\"Genre\")"
   ]
  },
  {
   "cell_type": "markdown",
   "id": "80fbde68",
   "metadata": {},
   "source": [
    "It seems that while drama movies may be the most common genre, the genre with the highest revenue is __action__."
   ]
  },
  {
   "cell_type": "markdown",
   "id": "0d982d01",
   "metadata": {},
   "source": [
    "Let's make a bar chart showing the top ten genres by __profit__."
   ]
  },
  {
   "cell_type": "code",
   "execution_count": 46,
   "id": "c973a1bc",
   "metadata": {},
   "outputs": [
    {
     "data": {
      "text/html": [
       "<div>\n",
       "<style scoped>\n",
       "    .dataframe tbody tr th:only-of-type {\n",
       "        vertical-align: middle;\n",
       "    }\n",
       "\n",
       "    .dataframe tbody tr th {\n",
       "        vertical-align: top;\n",
       "    }\n",
       "\n",
       "    .dataframe thead th {\n",
       "        text-align: right;\n",
       "    }\n",
       "</style>\n",
       "<table border=\"1\" class=\"dataframe\">\n",
       "  <thead>\n",
       "    <tr style=\"text-align: right;\">\n",
       "      <th></th>\n",
       "      <th>revenue</th>\n",
       "      <th>profit</th>\n",
       "    </tr>\n",
       "    <tr>\n",
       "      <th>genres</th>\n",
       "      <th></th>\n",
       "      <th></th>\n",
       "    </tr>\n",
       "  </thead>\n",
       "  <tbody>\n",
       "    <tr>\n",
       "      <th>Adventure</th>\n",
       "      <td>157031983358</td>\n",
       "      <td>107225747898</td>\n",
       "    </tr>\n",
       "    <tr>\n",
       "      <th>Action</th>\n",
       "      <td>160448354229</td>\n",
       "      <td>102238947630</td>\n",
       "    </tr>\n",
       "    <tr>\n",
       "      <th>Comedy</th>\n",
       "      <td>112082996114</td>\n",
       "      <td>72334884305</td>\n",
       "    </tr>\n",
       "    <tr>\n",
       "      <th>Drama</th>\n",
       "      <td>117102116900</td>\n",
       "      <td>71089054743</td>\n",
       "    </tr>\n",
       "    <tr>\n",
       "      <th>Thriller</th>\n",
       "      <td>79011464592</td>\n",
       "      <td>49496444706</td>\n",
       "    </tr>\n",
       "    <tr>\n",
       "      <th>Fantasy</th>\n",
       "      <td>66829567950</td>\n",
       "      <td>44677871355</td>\n",
       "    </tr>\n",
       "    <tr>\n",
       "      <th>Family</th>\n",
       "      <td>62021925944</td>\n",
       "      <td>42487583403</td>\n",
       "    </tr>\n",
       "    <tr>\n",
       "      <th>Science Fiction</th>\n",
       "      <td>62185240770</td>\n",
       "      <td>41763108713</td>\n",
       "    </tr>\n",
       "    <tr>\n",
       "      <th>Animation</th>\n",
       "      <td>50398947704</td>\n",
       "      <td>35435926648</td>\n",
       "    </tr>\n",
       "    <tr>\n",
       "      <th>Romance</th>\n",
       "      <td>43462147652</td>\n",
       "      <td>28869758702</td>\n",
       "    </tr>\n",
       "  </tbody>\n",
       "</table>\n",
       "</div>"
      ],
      "text/plain": [
       "                      revenue        profit\n",
       "genres                                     \n",
       "Adventure        157031983358  107225747898\n",
       "Action           160448354229  102238947630\n",
       "Comedy           112082996114   72334884305\n",
       "Drama            117102116900   71089054743\n",
       "Thriller          79011464592   49496444706\n",
       "Fantasy           66829567950   44677871355\n",
       "Family            62021925944   42487583403\n",
       "Science Fiction   62185240770   41763108713\n",
       "Animation         50398947704   35435926648\n",
       "Romance           43462147652   28869758702"
      ]
     },
     "execution_count": 46,
     "metadata": {},
     "output_type": "execute_result"
    }
   ],
   "source": [
    "top_ten_genres_profit = all_genres.groupby('genres')[['genres', 'revenue', 'profit']].sum().sort_values('profit', ascending=False).head(10)\n",
    "top_ten_genres_profit"
   ]
  },
  {
   "cell_type": "markdown",
   "id": "8490e91c",
   "metadata": {},
   "source": [
    "The most profitable genre is __adventure__."
   ]
  },
  {
   "cell_type": "code",
   "execution_count": 47,
   "id": "db46d0ac",
   "metadata": {},
   "outputs": [
    {
     "data": {
      "text/plain": [
       "Text(0, 0.5, 'Genre')"
      ]
     },
     "execution_count": 47,
     "metadata": {},
     "output_type": "execute_result"
    },
    {
     "data": {
      "image/png": "[encoded data removed]",
      "text/plain": [
       "<Figure size 1000x600 with 1 Axes>"
      ]
     },
     "metadata": {},
     "output_type": "display_data"
    }
   ],
   "source": [
    "plt.figure(figsize=(10,6))\n",
    "\n",
    "plt.title(\"Top Ten Most Profitable Genres (Gross)\")\n",
    "sns.barplot(x=top_ten_genres_profit['profit'], y=top_ten_genres_profit.index, color='royalblue')\n",
    "plt.xlabel(\"Profit ($100 billions)\")\n",
    "plt.ylabel(\"Genre\")"
   ]
  },
  {
   "cell_type": "markdown",
   "id": "fa90673f",
   "metadata": {},
   "source": [
    "The genres with the highest revenue and profit are __action__ and __adventure__, respectively.\n",
    "\n",
    "This does not seem surprising as action and adventure movies are fun and exciting to watch and appeal to a lot of people. Also, there is overlap as many movies may be both action *and* adventure. "
   ]
  },
  {
   "cell_type": "markdown",
   "id": "014020c5",
   "metadata": {},
   "source": [
    "***"
   ]
  },
  {
   "cell_type": "markdown",
   "id": "61086599",
   "metadata": {},
   "source": [
    "## Conclusion\n",
    "\n",
    "### Question 1: What is the movie that earned the highest revenue?\n",
    "\n",
    "__Avatar (2009)__ is the movie with the highest revenue at 2.78 billion USD.\t\n",
    "\n",
    "### Question 2: What was the most expensive movie to make?\n",
    "\n",
    "__Pirates of the Caribbean: On Stranger Tides (2011)__ was the most expensive movie to make, with a budget of 380,000,000 USD. \n",
    "\n",
    "### Question 3: What was the most profitable movie? \n",
    "\n",
    "The most profitable movie is __Avatar (2009)__ with 2.55 billion USD. \n",
    "\n",
    "### Question 4: Is there a relationship between budget and profit/revenue? If a movie has a higher budget, will it lead to higher profit and revenue?\n",
    "\n",
    "There is a correlation with budget and profit/revenue. Generally, if a movie has a higher budget, it will have a higher profit/revenue. Though, this is not always the case. \n",
    "\n",
    "### Question 5: What are the top movies by score?\n",
    "\n",
    "The movie with the highest score is __The Shawshank Redemption (1994)__.\n",
    "\n",
    "The rest of the top ten movies are *Fight Club* (1999), *The Dark Knight* (2008), *Pulp Fiction*\t(1994), *Inception* (2010), *The Godfather* (1972), *Interstellar* (2014), *Forrest Gump* (1994), *The Lord of the Rings: The Return of the King* (2003), and *The Empire Strikes Back* (1980).\n",
    "\n",
    "### Question 6: Which director makes the movies with the highest average profit?\n",
    "\n",
    "__Chris Buck__, the director of *Frozen* (2013), has the highest average profit.\n",
    "\n",
    "### Question 7: Which actors bring in the most revenue and profit?\n",
    "\n",
    "The actor with the highest revenue is __Tom Cruise__, and the actor with the highest profit is __Robert Downey Jr__.\n",
    "\n",
    "### Question 8: Which genres make the highest revenue and profit?\n",
    "\n",
    "__Action__ and __adventure__ are the genres with the highest revenue and profit, respectively.\n",
    "\n",
    "Action has earned 160 billion USD in revenue and adventure has earned 107 billion USD in profit.\n",
    "\n",
    "(Note that movies can have multiple genres)"
   ]
  },
  {
   "cell_type": "markdown",
   "id": "99bab813",
   "metadata": {},
   "source": [
    "### References\n",
    "\n",
    "1. https://www.kaggle.com/datasets/tmdb/tmdb-movie-metadata\n",
    "2. https://www.boxofficemojo.com/chart/top_lifetime_gross/?area=XWW"
   ]
  }
 ],
 "metadata": {
  "kernelspec": {
   "display_name": "Python 3 (ipykernel)",
   "language": "python",
   "name": "python3"
  },
  "language_info": {
   "codemirror_mode": {
    "name": "ipython",
    "version": 3
   },
   "file_extension": ".py",
   "mimetype": "text/x-python",
   "name": "python",
   "nbconvert_exporter": "python",
   "pygments_lexer": "ipython3",
   "version": "3.9.13"
  }
 },
 "nbformat": 4,
 "nbformat_minor": 5
}
